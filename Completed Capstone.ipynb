{
 "cells": [
  {
   "cell_type": "markdown",
   "metadata": {
    "collapsed": true
   },
   "source": [
    "The goal of my capstone is to create a model that will allow me to predict the prices of stocks and predict the prices of bitcoin and to understand what correlations (if any) they have, my goals include trying to find correlations between the stock market and bitcoin market, is there a positive or negative correlation or no correlation at all?\n",
    "A potential risk to my research is even if there is correlation that may not necessarily be causation. I'm planning on running a multitude of tests and models including a linear regression model, lasso regression model, random forest regressor and a few others."
   ]
  },
  {
   "cell_type": "code",
   "execution_count": 196,
   "metadata": {},
   "outputs": [],
   "source": [
    "import pandas as pd\n",
    "import numpy as np\n",
    "import matplotlib.pyplot as plt \n",
    "%matplotlib inline\n",
    "import seaborn as sns\n",
    "from sklearn.grid_search import GridSearchCV\n",
    "from sklearn.feature_extraction.text import CountVectorizer, TfidfVectorizer\n",
    "from sklearn.model_selection import train_test_split, GridSearchCV\n",
    "from sklearn.decomposition import TruncatedSVD\n",
    "from sklearn.ensemble import RandomForestClassifier, AdaBoostRegressor\n",
    "from sklearn.metrics import classification_report, confusion_matrix\n",
    "from sklearn.feature_extraction.text import CountVectorizer, \\\n",
    "HashingVectorizer, TfidfVectorizer\n",
    "from sklearn.datasets import fetch_20newsgroups\n",
    "from sklearn.decomposition import TruncatedSVD\n",
    "from sklearn.ensemble import RandomForestRegressor\n",
    "from sklearn.linear_model import LogisticRegression\n",
    "from sklearn.linear_model import LinearRegression\n",
    "from sklearn.linear_model import LogisticRegressionCV\n",
    "from sklearn.model_selection import train_test_split\n",
    "from sklearn.metrics import confusion_matrix, classification_report\n",
    "from sklearn.model_selection import train_test_split, GridSearchCV\n",
    "from sklearn.pipeline import Pipeline, make_pipeline, FeatureUnion\n",
    "from sklearn.preprocessing import Imputer, StandardScaler\n",
    "from statsmodels.tsa.stattools import adfuller, acf, pacf\n",
    "from statsmodels.tsa.arima_model import ARIMA\n",
    "from sklearn.metrics import mean_squared_error"
   ]
  },
  {
   "cell_type": "markdown",
   "metadata": {},
   "source": [
    "# Step 1 Load the Datasets"
   ]
  },
  {
   "cell_type": "code",
   "execution_count": 197,
   "metadata": {
    "collapsed": true
   },
   "outputs": [],
   "source": [
    "df2 = pd.read_csv('~/Downloads/bitcoin-historical-data/coinbaseUSD_1-min_data_2014-12-01_to_2017-05-31.csv')"
   ]
  },
  {
   "cell_type": "code",
   "execution_count": 361,
   "metadata": {
    "collapsed": true
   },
   "outputs": [],
   "source": [
    "df = pd.read_csv('~/lesson-hierarchical-clustering-evaluation/datasets/dow_jones_index.csv')"
   ]
  },
  {
   "cell_type": "code",
   "execution_count": 362,
   "metadata": {},
   "outputs": [
    {
     "data": {
      "text/html": [
       "<div>\n",
       "<style>\n",
       "    .dataframe thead tr:only-child th {\n",
       "        text-align: right;\n",
       "    }\n",
       "\n",
       "    .dataframe thead th {\n",
       "        text-align: left;\n",
       "    }\n",
       "\n",
       "    .dataframe tbody tr th {\n",
       "        vertical-align: top;\n",
       "    }\n",
       "</style>\n",
       "<table border=\"1\" class=\"dataframe\">\n",
       "  <thead>\n",
       "    <tr style=\"text-align: right;\">\n",
       "      <th></th>\n",
       "      <th>quarter</th>\n",
       "      <th>stock</th>\n",
       "      <th>date</th>\n",
       "      <th>open</th>\n",
       "      <th>high</th>\n",
       "      <th>low</th>\n",
       "      <th>close</th>\n",
       "      <th>volume</th>\n",
       "      <th>percent_change_price</th>\n",
       "      <th>percent_change_volume_over_last_wk</th>\n",
       "      <th>previous_weeks_volume</th>\n",
       "      <th>next_weeks_open</th>\n",
       "      <th>next_weeks_close</th>\n",
       "      <th>percent_change_next_weeks_price</th>\n",
       "      <th>days_to_next_dividend</th>\n",
       "      <th>percent_return_next_dividend</th>\n",
       "    </tr>\n",
       "  </thead>\n",
       "  <tbody>\n",
       "    <tr>\n",
       "      <th>0</th>\n",
       "      <td>1</td>\n",
       "      <td>AA</td>\n",
       "      <td>1/7/2011</td>\n",
       "      <td>$15.82</td>\n",
       "      <td>$16.72</td>\n",
       "      <td>$15.78</td>\n",
       "      <td>$16.42</td>\n",
       "      <td>239655616</td>\n",
       "      <td>3.79267</td>\n",
       "      <td>NaN</td>\n",
       "      <td>NaN</td>\n",
       "      <td>$16.71</td>\n",
       "      <td>$15.97</td>\n",
       "      <td>-4.428490</td>\n",
       "      <td>26</td>\n",
       "      <td>0.182704</td>\n",
       "    </tr>\n",
       "    <tr>\n",
       "      <th>1</th>\n",
       "      <td>1</td>\n",
       "      <td>AA</td>\n",
       "      <td>1/14/2011</td>\n",
       "      <td>$16.71</td>\n",
       "      <td>$16.71</td>\n",
       "      <td>$15.64</td>\n",
       "      <td>$15.97</td>\n",
       "      <td>242963398</td>\n",
       "      <td>-4.42849</td>\n",
       "      <td>1.380223</td>\n",
       "      <td>239655616.0</td>\n",
       "      <td>$16.19</td>\n",
       "      <td>$15.79</td>\n",
       "      <td>-2.470660</td>\n",
       "      <td>19</td>\n",
       "      <td>0.187852</td>\n",
       "    </tr>\n",
       "    <tr>\n",
       "      <th>2</th>\n",
       "      <td>1</td>\n",
       "      <td>AA</td>\n",
       "      <td>1/21/2011</td>\n",
       "      <td>$16.19</td>\n",
       "      <td>$16.38</td>\n",
       "      <td>$15.60</td>\n",
       "      <td>$15.79</td>\n",
       "      <td>138428495</td>\n",
       "      <td>-2.47066</td>\n",
       "      <td>-43.024959</td>\n",
       "      <td>242963398.0</td>\n",
       "      <td>$15.87</td>\n",
       "      <td>$16.13</td>\n",
       "      <td>1.638310</td>\n",
       "      <td>12</td>\n",
       "      <td>0.189994</td>\n",
       "    </tr>\n",
       "    <tr>\n",
       "      <th>3</th>\n",
       "      <td>1</td>\n",
       "      <td>AA</td>\n",
       "      <td>1/28/2011</td>\n",
       "      <td>$15.87</td>\n",
       "      <td>$16.63</td>\n",
       "      <td>$15.82</td>\n",
       "      <td>$16.13</td>\n",
       "      <td>151379173</td>\n",
       "      <td>1.63831</td>\n",
       "      <td>9.355500</td>\n",
       "      <td>138428495.0</td>\n",
       "      <td>$16.18</td>\n",
       "      <td>$17.14</td>\n",
       "      <td>5.933250</td>\n",
       "      <td>5</td>\n",
       "      <td>0.185989</td>\n",
       "    </tr>\n",
       "    <tr>\n",
       "      <th>4</th>\n",
       "      <td>1</td>\n",
       "      <td>AA</td>\n",
       "      <td>2/4/2011</td>\n",
       "      <td>$16.18</td>\n",
       "      <td>$17.39</td>\n",
       "      <td>$16.18</td>\n",
       "      <td>$17.14</td>\n",
       "      <td>154387761</td>\n",
       "      <td>5.93325</td>\n",
       "      <td>1.987452</td>\n",
       "      <td>151379173.0</td>\n",
       "      <td>$17.33</td>\n",
       "      <td>$17.37</td>\n",
       "      <td>0.230814</td>\n",
       "      <td>97</td>\n",
       "      <td>0.175029</td>\n",
       "    </tr>\n",
       "  </tbody>\n",
       "</table>\n",
       "</div>"
      ],
      "text/plain": [
       "   quarter stock       date    open    high     low   close     volume  \\\n",
       "0        1    AA   1/7/2011  $15.82  $16.72  $15.78  $16.42  239655616   \n",
       "1        1    AA  1/14/2011  $16.71  $16.71  $15.64  $15.97  242963398   \n",
       "2        1    AA  1/21/2011  $16.19  $16.38  $15.60  $15.79  138428495   \n",
       "3        1    AA  1/28/2011  $15.87  $16.63  $15.82  $16.13  151379173   \n",
       "4        1    AA   2/4/2011  $16.18  $17.39  $16.18  $17.14  154387761   \n",
       "\n",
       "   percent_change_price  percent_change_volume_over_last_wk  \\\n",
       "0               3.79267                                 NaN   \n",
       "1              -4.42849                            1.380223   \n",
       "2              -2.47066                          -43.024959   \n",
       "3               1.63831                            9.355500   \n",
       "4               5.93325                            1.987452   \n",
       "\n",
       "   previous_weeks_volume next_weeks_open next_weeks_close  \\\n",
       "0                    NaN          $16.71           $15.97   \n",
       "1            239655616.0          $16.19           $15.79   \n",
       "2            242963398.0          $15.87           $16.13   \n",
       "3            138428495.0          $16.18           $17.14   \n",
       "4            151379173.0          $17.33           $17.37   \n",
       "\n",
       "   percent_change_next_weeks_price  days_to_next_dividend  \\\n",
       "0                        -4.428490                     26   \n",
       "1                        -2.470660                     19   \n",
       "2                         1.638310                     12   \n",
       "3                         5.933250                      5   \n",
       "4                         0.230814                     97   \n",
       "\n",
       "   percent_return_next_dividend  \n",
       "0                      0.182704  \n",
       "1                      0.187852  \n",
       "2                      0.189994  \n",
       "3                      0.185989  \n",
       "4                      0.175029  "
      ]
     },
     "execution_count": 362,
     "metadata": {},
     "output_type": "execute_result"
    }
   ],
   "source": [
    "df.head()"
   ]
  },
  {
   "cell_type": "code",
   "execution_count": 199,
   "metadata": {},
   "outputs": [
    {
     "data": {
      "text/html": [
       "<div>\n",
       "<style>\n",
       "    .dataframe thead tr:only-child th {\n",
       "        text-align: right;\n",
       "    }\n",
       "\n",
       "    .dataframe thead th {\n",
       "        text-align: left;\n",
       "    }\n",
       "\n",
       "    .dataframe tbody tr th {\n",
       "        vertical-align: top;\n",
       "    }\n",
       "</style>\n",
       "<table border=\"1\" class=\"dataframe\">\n",
       "  <thead>\n",
       "    <tr style=\"text-align: right;\">\n",
       "      <th></th>\n",
       "      <th>Timestamp</th>\n",
       "      <th>Open</th>\n",
       "      <th>High</th>\n",
       "      <th>Low</th>\n",
       "      <th>Close</th>\n",
       "      <th>Volume_(BTC)</th>\n",
       "      <th>Volume_(Currency)</th>\n",
       "      <th>Weighted_Price</th>\n",
       "    </tr>\n",
       "  </thead>\n",
       "  <tbody>\n",
       "    <tr>\n",
       "      <th>0</th>\n",
       "      <td>1417411980</td>\n",
       "      <td>300.0</td>\n",
       "      <td>300.0</td>\n",
       "      <td>300.0</td>\n",
       "      <td>300.0</td>\n",
       "      <td>0.01</td>\n",
       "      <td>3.0</td>\n",
       "      <td>300.0</td>\n",
       "    </tr>\n",
       "    <tr>\n",
       "      <th>1</th>\n",
       "      <td>1417412040</td>\n",
       "      <td>NaN</td>\n",
       "      <td>NaN</td>\n",
       "      <td>NaN</td>\n",
       "      <td>NaN</td>\n",
       "      <td>NaN</td>\n",
       "      <td>NaN</td>\n",
       "      <td>NaN</td>\n",
       "    </tr>\n",
       "    <tr>\n",
       "      <th>2</th>\n",
       "      <td>1417412100</td>\n",
       "      <td>NaN</td>\n",
       "      <td>NaN</td>\n",
       "      <td>NaN</td>\n",
       "      <td>NaN</td>\n",
       "      <td>NaN</td>\n",
       "      <td>NaN</td>\n",
       "      <td>NaN</td>\n",
       "    </tr>\n",
       "    <tr>\n",
       "      <th>3</th>\n",
       "      <td>1417412160</td>\n",
       "      <td>NaN</td>\n",
       "      <td>NaN</td>\n",
       "      <td>NaN</td>\n",
       "      <td>NaN</td>\n",
       "      <td>NaN</td>\n",
       "      <td>NaN</td>\n",
       "      <td>NaN</td>\n",
       "    </tr>\n",
       "    <tr>\n",
       "      <th>4</th>\n",
       "      <td>1417412220</td>\n",
       "      <td>NaN</td>\n",
       "      <td>NaN</td>\n",
       "      <td>NaN</td>\n",
       "      <td>NaN</td>\n",
       "      <td>NaN</td>\n",
       "      <td>NaN</td>\n",
       "      <td>NaN</td>\n",
       "    </tr>\n",
       "  </tbody>\n",
       "</table>\n",
       "</div>"
      ],
      "text/plain": [
       "    Timestamp   Open   High    Low  Close  Volume_(BTC)  Volume_(Currency)  \\\n",
       "0  1417411980  300.0  300.0  300.0  300.0          0.01                3.0   \n",
       "1  1417412040    NaN    NaN    NaN    NaN           NaN                NaN   \n",
       "2  1417412100    NaN    NaN    NaN    NaN           NaN                NaN   \n",
       "3  1417412160    NaN    NaN    NaN    NaN           NaN                NaN   \n",
       "4  1417412220    NaN    NaN    NaN    NaN           NaN                NaN   \n",
       "\n",
       "   Weighted_Price  \n",
       "0           300.0  \n",
       "1             NaN  \n",
       "2             NaN  \n",
       "3             NaN  \n",
       "4             NaN  "
      ]
     },
     "execution_count": 199,
     "metadata": {},
     "output_type": "execute_result"
    }
   ],
   "source": [
    "df2.head()"
   ]
  },
  {
   "cell_type": "markdown",
   "metadata": {},
   "source": [
    "# Step 2 Exploratory Data Analysis"
   ]
  },
  {
   "cell_type": "code",
   "execution_count": 200,
   "metadata": {
    "collapsed": true
   },
   "outputs": [],
   "source": [
    "df2 = df2.dropna()"
   ]
  },
  {
   "cell_type": "code",
   "execution_count": 363,
   "metadata": {
    "collapsed": true
   },
   "outputs": [],
   "source": [
    "df = df.dropna()"
   ]
  },
  {
   "cell_type": "code",
   "execution_count": 202,
   "metadata": {
    "collapsed": true
   },
   "outputs": [],
   "source": [
    "df2['Timestamp'] = pd.to_datetime(df2['Timestamp'],unit='s')"
   ]
  },
  {
   "cell_type": "code",
   "execution_count": 203,
   "metadata": {},
   "outputs": [
    {
     "data": {
      "text/html": [
       "<div>\n",
       "<style>\n",
       "    .dataframe thead tr:only-child th {\n",
       "        text-align: right;\n",
       "    }\n",
       "\n",
       "    .dataframe thead th {\n",
       "        text-align: left;\n",
       "    }\n",
       "\n",
       "    .dataframe tbody tr th {\n",
       "        vertical-align: top;\n",
       "    }\n",
       "</style>\n",
       "<table border=\"1\" class=\"dataframe\">\n",
       "  <thead>\n",
       "    <tr style=\"text-align: right;\">\n",
       "      <th></th>\n",
       "      <th>Open</th>\n",
       "      <th>High</th>\n",
       "      <th>Low</th>\n",
       "      <th>Close</th>\n",
       "      <th>Volume_(BTC)</th>\n",
       "      <th>Volume_(Currency)</th>\n",
       "      <th>Weighted_Price</th>\n",
       "    </tr>\n",
       "  </thead>\n",
       "  <tbody>\n",
       "    <tr>\n",
       "      <th>Open</th>\n",
       "      <td>1.000000</td>\n",
       "      <td>0.999997</td>\n",
       "      <td>0.999996</td>\n",
       "      <td>0.999996</td>\n",
       "      <td>0.047719</td>\n",
       "      <td>0.350842</td>\n",
       "      <td>0.999998</td>\n",
       "    </tr>\n",
       "    <tr>\n",
       "      <th>High</th>\n",
       "      <td>0.999997</td>\n",
       "      <td>1.000000</td>\n",
       "      <td>0.999992</td>\n",
       "      <td>0.999997</td>\n",
       "      <td>0.048171</td>\n",
       "      <td>0.351481</td>\n",
       "      <td>0.999998</td>\n",
       "    </tr>\n",
       "    <tr>\n",
       "      <th>Low</th>\n",
       "      <td>0.999996</td>\n",
       "      <td>0.999992</td>\n",
       "      <td>1.000000</td>\n",
       "      <td>0.999996</td>\n",
       "      <td>0.046924</td>\n",
       "      <td>0.349698</td>\n",
       "      <td>0.999998</td>\n",
       "    </tr>\n",
       "    <tr>\n",
       "      <th>Close</th>\n",
       "      <td>0.999996</td>\n",
       "      <td>0.999997</td>\n",
       "      <td>0.999996</td>\n",
       "      <td>1.000000</td>\n",
       "      <td>0.047556</td>\n",
       "      <td>0.350635</td>\n",
       "      <td>0.999999</td>\n",
       "    </tr>\n",
       "    <tr>\n",
       "      <th>Volume_(BTC)</th>\n",
       "      <td>0.047719</td>\n",
       "      <td>0.048171</td>\n",
       "      <td>0.046924</td>\n",
       "      <td>0.047556</td>\n",
       "      <td>1.000000</td>\n",
       "      <td>0.757953</td>\n",
       "      <td>0.047523</td>\n",
       "    </tr>\n",
       "    <tr>\n",
       "      <th>Volume_(Currency)</th>\n",
       "      <td>0.350842</td>\n",
       "      <td>0.351481</td>\n",
       "      <td>0.349698</td>\n",
       "      <td>0.350635</td>\n",
       "      <td>0.757953</td>\n",
       "      <td>1.000000</td>\n",
       "      <td>0.350560</td>\n",
       "    </tr>\n",
       "    <tr>\n",
       "      <th>Weighted_Price</th>\n",
       "      <td>0.999998</td>\n",
       "      <td>0.999998</td>\n",
       "      <td>0.999998</td>\n",
       "      <td>0.999999</td>\n",
       "      <td>0.047523</td>\n",
       "      <td>0.350560</td>\n",
       "      <td>1.000000</td>\n",
       "    </tr>\n",
       "  </tbody>\n",
       "</table>\n",
       "</div>"
      ],
      "text/plain": [
       "                       Open      High       Low     Close  Volume_(BTC)  \\\n",
       "Open               1.000000  0.999997  0.999996  0.999996      0.047719   \n",
       "High               0.999997  1.000000  0.999992  0.999997      0.048171   \n",
       "Low                0.999996  0.999992  1.000000  0.999996      0.046924   \n",
       "Close              0.999996  0.999997  0.999996  1.000000      0.047556   \n",
       "Volume_(BTC)       0.047719  0.048171  0.046924  0.047556      1.000000   \n",
       "Volume_(Currency)  0.350842  0.351481  0.349698  0.350635      0.757953   \n",
       "Weighted_Price     0.999998  0.999998  0.999998  0.999999      0.047523   \n",
       "\n",
       "                   Volume_(Currency)  Weighted_Price  \n",
       "Open                        0.350842        0.999998  \n",
       "High                        0.351481        0.999998  \n",
       "Low                         0.349698        0.999998  \n",
       "Close                       0.350635        0.999999  \n",
       "Volume_(BTC)                0.757953        0.047523  \n",
       "Volume_(Currency)           1.000000        0.350560  \n",
       "Weighted_Price              0.350560        1.000000  "
      ]
     },
     "execution_count": 203,
     "metadata": {},
     "output_type": "execute_result"
    }
   ],
   "source": [
    "df2.corr()"
   ]
  },
  {
   "cell_type": "code",
   "execution_count": 364,
   "metadata": {},
   "outputs": [
    {
     "data": {
      "text/html": [
       "<div>\n",
       "<style>\n",
       "    .dataframe thead tr:only-child th {\n",
       "        text-align: right;\n",
       "    }\n",
       "\n",
       "    .dataframe thead th {\n",
       "        text-align: left;\n",
       "    }\n",
       "\n",
       "    .dataframe tbody tr th {\n",
       "        vertical-align: top;\n",
       "    }\n",
       "</style>\n",
       "<table border=\"1\" class=\"dataframe\">\n",
       "  <thead>\n",
       "    <tr style=\"text-align: right;\">\n",
       "      <th></th>\n",
       "      <th>quarter</th>\n",
       "      <th>volume</th>\n",
       "      <th>percent_change_price</th>\n",
       "      <th>percent_change_volume_over_last_wk</th>\n",
       "      <th>previous_weeks_volume</th>\n",
       "      <th>percent_change_next_weeks_price</th>\n",
       "      <th>days_to_next_dividend</th>\n",
       "      <th>percent_return_next_dividend</th>\n",
       "    </tr>\n",
       "  </thead>\n",
       "  <tbody>\n",
       "    <tr>\n",
       "      <th>quarter</th>\n",
       "      <td>1.000000</td>\n",
       "      <td>-0.037889</td>\n",
       "      <td>-0.076259</td>\n",
       "      <td>0.023662</td>\n",
       "      <td>-0.057302</td>\n",
       "      <td>0.000098</td>\n",
       "      <td>-0.020749</td>\n",
       "      <td>-0.007963</td>\n",
       "    </tr>\n",
       "    <tr>\n",
       "      <th>volume</th>\n",
       "      <td>-0.037889</td>\n",
       "      <td>1.000000</td>\n",
       "      <td>-0.173245</td>\n",
       "      <td>0.181672</td>\n",
       "      <td>0.887631</td>\n",
       "      <td>-0.091106</td>\n",
       "      <td>-0.057734</td>\n",
       "      <td>-0.269797</td>\n",
       "    </tr>\n",
       "    <tr>\n",
       "      <th>percent_change_price</th>\n",
       "      <td>-0.076259</td>\n",
       "      <td>-0.173245</td>\n",
       "      <td>1.000000</td>\n",
       "      <td>-0.234496</td>\n",
       "      <td>-0.068675</td>\n",
       "      <td>0.020639</td>\n",
       "      <td>-0.009060</td>\n",
       "      <td>0.049963</td>\n",
       "    </tr>\n",
       "    <tr>\n",
       "      <th>percent_change_volume_over_last_wk</th>\n",
       "      <td>0.023662</td>\n",
       "      <td>0.181672</td>\n",
       "      <td>-0.234496</td>\n",
       "      <td>1.000000</td>\n",
       "      <td>-0.129519</td>\n",
       "      <td>0.013181</td>\n",
       "      <td>-0.033348</td>\n",
       "      <td>-0.017486</td>\n",
       "    </tr>\n",
       "    <tr>\n",
       "      <th>previous_weeks_volume</th>\n",
       "      <td>-0.057302</td>\n",
       "      <td>0.887631</td>\n",
       "      <td>-0.068675</td>\n",
       "      <td>-0.129519</td>\n",
       "      <td>1.000000</td>\n",
       "      <td>-0.102408</td>\n",
       "      <td>-0.047727</td>\n",
       "      <td>-0.270266</td>\n",
       "    </tr>\n",
       "    <tr>\n",
       "      <th>percent_change_next_weeks_price</th>\n",
       "      <td>0.000098</td>\n",
       "      <td>-0.091106</td>\n",
       "      <td>0.020639</td>\n",
       "      <td>0.013181</td>\n",
       "      <td>-0.102408</td>\n",
       "      <td>1.000000</td>\n",
       "      <td>-0.028797</td>\n",
       "      <td>0.103009</td>\n",
       "    </tr>\n",
       "    <tr>\n",
       "      <th>days_to_next_dividend</th>\n",
       "      <td>-0.020749</td>\n",
       "      <td>-0.057734</td>\n",
       "      <td>-0.009060</td>\n",
       "      <td>-0.033348</td>\n",
       "      <td>-0.047727</td>\n",
       "      <td>-0.028797</td>\n",
       "      <td>1.000000</td>\n",
       "      <td>0.119733</td>\n",
       "    </tr>\n",
       "    <tr>\n",
       "      <th>percent_return_next_dividend</th>\n",
       "      <td>-0.007963</td>\n",
       "      <td>-0.269797</td>\n",
       "      <td>0.049963</td>\n",
       "      <td>-0.017486</td>\n",
       "      <td>-0.270266</td>\n",
       "      <td>0.103009</td>\n",
       "      <td>0.119733</td>\n",
       "      <td>1.000000</td>\n",
       "    </tr>\n",
       "  </tbody>\n",
       "</table>\n",
       "</div>"
      ],
      "text/plain": [
       "                                     quarter    volume  percent_change_price  \\\n",
       "quarter                             1.000000 -0.037889             -0.076259   \n",
       "volume                             -0.037889  1.000000             -0.173245   \n",
       "percent_change_price               -0.076259 -0.173245              1.000000   \n",
       "percent_change_volume_over_last_wk  0.023662  0.181672             -0.234496   \n",
       "previous_weeks_volume              -0.057302  0.887631             -0.068675   \n",
       "percent_change_next_weeks_price     0.000098 -0.091106              0.020639   \n",
       "days_to_next_dividend              -0.020749 -0.057734             -0.009060   \n",
       "percent_return_next_dividend       -0.007963 -0.269797              0.049963   \n",
       "\n",
       "                                    percent_change_volume_over_last_wk  \\\n",
       "quarter                                                       0.023662   \n",
       "volume                                                        0.181672   \n",
       "percent_change_price                                         -0.234496   \n",
       "percent_change_volume_over_last_wk                            1.000000   \n",
       "previous_weeks_volume                                        -0.129519   \n",
       "percent_change_next_weeks_price                               0.013181   \n",
       "days_to_next_dividend                                        -0.033348   \n",
       "percent_return_next_dividend                                 -0.017486   \n",
       "\n",
       "                                    previous_weeks_volume  \\\n",
       "quarter                                         -0.057302   \n",
       "volume                                           0.887631   \n",
       "percent_change_price                            -0.068675   \n",
       "percent_change_volume_over_last_wk              -0.129519   \n",
       "previous_weeks_volume                            1.000000   \n",
       "percent_change_next_weeks_price                 -0.102408   \n",
       "days_to_next_dividend                           -0.047727   \n",
       "percent_return_next_dividend                    -0.270266   \n",
       "\n",
       "                                    percent_change_next_weeks_price  \\\n",
       "quarter                                                    0.000098   \n",
       "volume                                                    -0.091106   \n",
       "percent_change_price                                       0.020639   \n",
       "percent_change_volume_over_last_wk                         0.013181   \n",
       "previous_weeks_volume                                     -0.102408   \n",
       "percent_change_next_weeks_price                            1.000000   \n",
       "days_to_next_dividend                                     -0.028797   \n",
       "percent_return_next_dividend                               0.103009   \n",
       "\n",
       "                                    days_to_next_dividend  \\\n",
       "quarter                                         -0.020749   \n",
       "volume                                          -0.057734   \n",
       "percent_change_price                            -0.009060   \n",
       "percent_change_volume_over_last_wk              -0.033348   \n",
       "previous_weeks_volume                           -0.047727   \n",
       "percent_change_next_weeks_price                 -0.028797   \n",
       "days_to_next_dividend                            1.000000   \n",
       "percent_return_next_dividend                     0.119733   \n",
       "\n",
       "                                    percent_return_next_dividend  \n",
       "quarter                                                -0.007963  \n",
       "volume                                                 -0.269797  \n",
       "percent_change_price                                    0.049963  \n",
       "percent_change_volume_over_last_wk                     -0.017486  \n",
       "previous_weeks_volume                                  -0.270266  \n",
       "percent_change_next_weeks_price                         0.103009  \n",
       "days_to_next_dividend                                   0.119733  \n",
       "percent_return_next_dividend                            1.000000  "
      ]
     },
     "execution_count": 364,
     "metadata": {},
     "output_type": "execute_result"
    }
   ],
   "source": [
    "df.corr()"
   ]
  },
  {
   "cell_type": "markdown",
   "metadata": {},
   "source": [
    "In order to utilize the data properly it is necessary to remove the nullvalues first followed by a removal of the \"$\"s, in addition I will change the important columns into floats and add on more feature columns for the modeling further along. I also will take the differences of the past two periods and add those to the final dataset."
   ]
  },
  {
   "cell_type": "code",
   "execution_count": 365,
   "metadata": {
    "collapsed": true
   },
   "outputs": [],
   "source": [
    "df['Percent Change Price'] = df['percent_change_price'].diff(periods = 2)"
   ]
  },
  {
   "cell_type": "code",
   "execution_count": 366,
   "metadata": {
    "collapsed": true
   },
   "outputs": [],
   "source": [
    "df['Returned Percentage Next Dividend'] = df['percent_return_next_dividend'].diff(periods = 2)"
   ]
  },
  {
   "cell_type": "code",
   "execution_count": 367,
   "metadata": {
    "collapsed": true
   },
   "outputs": [],
   "source": [
    "df['Days Until Next Dividend'] = df['days_to_next_dividend'].diff(periods = 2)"
   ]
  },
  {
   "cell_type": "code",
   "execution_count": 368,
   "metadata": {
    "collapsed": true
   },
   "outputs": [],
   "source": [
    "df['Percent Change of Next Weeks Price'] = df['percent_change_next_weeks_price'].diff(periods = 2)"
   ]
  },
  {
   "cell_type": "code",
   "execution_count": 369,
   "metadata": {
    "collapsed": true
   },
   "outputs": [],
   "source": [
    "df['next_weeks_close'] = df['next_weeks_close'].str.replace('$', '')"
   ]
  },
  {
   "cell_type": "code",
   "execution_count": 370,
   "metadata": {
    "collapsed": true
   },
   "outputs": [],
   "source": [
    "df['next_weeks_close'] = df['next_weeks_close'].astype(float)"
   ]
  },
  {
   "cell_type": "code",
   "execution_count": 371,
   "metadata": {
    "collapsed": true
   },
   "outputs": [],
   "source": [
    "df['next_weeks_open'] = df['next_weeks_open'].str.replace('$', '')"
   ]
  },
  {
   "cell_type": "code",
   "execution_count": 372,
   "metadata": {
    "collapsed": true
   },
   "outputs": [],
   "source": [
    "df['Next Weeks Close'] = df['next_weeks_close'].diff(periods = 2)"
   ]
  },
  {
   "cell_type": "code",
   "execution_count": 373,
   "metadata": {
    "collapsed": true
   },
   "outputs": [],
   "source": [
    "df['next_weeks_open'] = df['next_weeks_open'].astype(float)"
   ]
  },
  {
   "cell_type": "code",
   "execution_count": 374,
   "metadata": {
    "collapsed": true
   },
   "outputs": [],
   "source": [
    "df['Next Weeks Open'] = df['next_weeks_open'].diff(periods = 2)"
   ]
  },
  {
   "cell_type": "code",
   "execution_count": 375,
   "metadata": {
    "collapsed": true
   },
   "outputs": [],
   "source": [
    "df['open'] = df['open'].str.replace('$', '')"
   ]
  },
  {
   "cell_type": "code",
   "execution_count": 376,
   "metadata": {
    "collapsed": true
   },
   "outputs": [],
   "source": [
    "df['close'] = df['close'].str.replace('$', '')"
   ]
  },
  {
   "cell_type": "code",
   "execution_count": 377,
   "metadata": {
    "collapsed": true
   },
   "outputs": [],
   "source": [
    "df['high'] = df['high'].str.replace('$', '')"
   ]
  },
  {
   "cell_type": "code",
   "execution_count": 378,
   "metadata": {
    "collapsed": true
   },
   "outputs": [],
   "source": [
    "df['low'] = df['low'].str.replace('$', '')"
   ]
  },
  {
   "cell_type": "code",
   "execution_count": 379,
   "metadata": {
    "collapsed": true
   },
   "outputs": [],
   "source": [
    "df['open'] = df['open'].astype(float)"
   ]
  },
  {
   "cell_type": "code",
   "execution_count": 380,
   "metadata": {
    "collapsed": true
   },
   "outputs": [],
   "source": [
    "df['close'] = df['close'].astype(float)"
   ]
  },
  {
   "cell_type": "code",
   "execution_count": 381,
   "metadata": {
    "collapsed": true
   },
   "outputs": [],
   "source": [
    "df['low'] = df['low'].astype(float)"
   ]
  },
  {
   "cell_type": "code",
   "execution_count": 382,
   "metadata": {
    "collapsed": true
   },
   "outputs": [],
   "source": [
    "df['high'] = df['high'].astype(float)"
   ]
  },
  {
   "cell_type": "code",
   "execution_count": 383,
   "metadata": {
    "collapsed": true
   },
   "outputs": [],
   "source": [
    "df['High'] = df['high'].diff(periods = 2)"
   ]
  },
  {
   "cell_type": "code",
   "execution_count": 384,
   "metadata": {
    "collapsed": true
   },
   "outputs": [],
   "source": [
    "df['Low'] = df['low'].diff(periods = 2)"
   ]
  },
  {
   "cell_type": "code",
   "execution_count": 385,
   "metadata": {
    "collapsed": true
   },
   "outputs": [],
   "source": [
    "df['Close'] = df['close'].diff(periods = 2)"
   ]
  },
  {
   "cell_type": "code",
   "execution_count": 386,
   "metadata": {
    "collapsed": true
   },
   "outputs": [],
   "source": [
    "df['Open'] = df['open'].diff(periods = 2)"
   ]
  },
  {
   "cell_type": "code",
   "execution_count": 387,
   "metadata": {
    "collapsed": true
   },
   "outputs": [],
   "source": [
    "df = df.drop('open', 1)"
   ]
  },
  {
   "cell_type": "code",
   "execution_count": 388,
   "metadata": {
    "collapsed": true
   },
   "outputs": [],
   "source": [
    "df = df.drop('high', 1)"
   ]
  },
  {
   "cell_type": "code",
   "execution_count": 389,
   "metadata": {
    "collapsed": true
   },
   "outputs": [],
   "source": [
    "df = df.drop('low', 1)"
   ]
  },
  {
   "cell_type": "code",
   "execution_count": 390,
   "metadata": {
    "collapsed": true
   },
   "outputs": [],
   "source": [
    "df = df.drop('close', 1)"
   ]
  },
  {
   "cell_type": "code",
   "execution_count": 391,
   "metadata": {
    "collapsed": true
   },
   "outputs": [],
   "source": [
    "df = df.drop('next_weeks_open', 1)"
   ]
  },
  {
   "cell_type": "code",
   "execution_count": 392,
   "metadata": {
    "collapsed": true
   },
   "outputs": [],
   "source": [
    "df = df.drop('next_weeks_close', 1)"
   ]
  },
  {
   "cell_type": "code",
   "execution_count": 393,
   "metadata": {
    "collapsed": true
   },
   "outputs": [],
   "source": [
    "df = df.drop('percent_change_next_weeks_price', 1)"
   ]
  },
  {
   "cell_type": "code",
   "execution_count": 394,
   "metadata": {
    "collapsed": true
   },
   "outputs": [],
   "source": [
    "df = df.drop('days_to_next_dividend', 1)"
   ]
  },
  {
   "cell_type": "code",
   "execution_count": 395,
   "metadata": {
    "collapsed": true
   },
   "outputs": [],
   "source": [
    "df = df.drop('percent_return_next_dividend', 1)"
   ]
  },
  {
   "cell_type": "code",
   "execution_count": 396,
   "metadata": {
    "collapsed": true
   },
   "outputs": [],
   "source": [
    "df['Yest.Open'] = df['Open'].shift(periods = 2)"
   ]
  },
  {
   "cell_type": "code",
   "execution_count": 397,
   "metadata": {
    "collapsed": true
   },
   "outputs": [],
   "source": [
    "df['Yest.Close'] = df['Close'].shift(periods = 2)"
   ]
  },
  {
   "cell_type": "code",
   "execution_count": 398,
   "metadata": {
    "collapsed": true
   },
   "outputs": [],
   "source": [
    "df['Yest.High'] = df['High'].shift(periods = 2)"
   ]
  },
  {
   "cell_type": "code",
   "execution_count": 399,
   "metadata": {
    "collapsed": true
   },
   "outputs": [],
   "source": [
    "df['Yest.Low'] = df['Low'].shift(periods = 2)"
   ]
  },
  {
   "cell_type": "code",
   "execution_count": 400,
   "metadata": {
    "collapsed": true
   },
   "outputs": [],
   "source": [
    "df['Yest.Percent.Change.Price'] = df['Percent Change Price'].shift(periods = 2)"
   ]
  },
  {
   "cell_type": "code",
   "execution_count": 401,
   "metadata": {
    "collapsed": true
   },
   "outputs": [],
   "source": [
    "df = df.iloc[4:,:]"
   ]
  },
  {
   "cell_type": "code",
   "execution_count": 402,
   "metadata": {
    "scrolled": false
   },
   "outputs": [
    {
     "data": {
      "text/html": [
       "<div>\n",
       "<style>\n",
       "    .dataframe thead tr:only-child th {\n",
       "        text-align: right;\n",
       "    }\n",
       "\n",
       "    .dataframe thead th {\n",
       "        text-align: left;\n",
       "    }\n",
       "\n",
       "    .dataframe tbody tr th {\n",
       "        vertical-align: top;\n",
       "    }\n",
       "</style>\n",
       "<table border=\"1\" class=\"dataframe\">\n",
       "  <thead>\n",
       "    <tr style=\"text-align: right;\">\n",
       "      <th></th>\n",
       "      <th>quarter</th>\n",
       "      <th>stock</th>\n",
       "      <th>date</th>\n",
       "      <th>volume</th>\n",
       "      <th>percent_change_price</th>\n",
       "      <th>percent_change_volume_over_last_wk</th>\n",
       "      <th>previous_weeks_volume</th>\n",
       "      <th>Percent Change Price</th>\n",
       "      <th>Returned Percentage Next Dividend</th>\n",
       "      <th>Days Until Next Dividend</th>\n",
       "      <th>...</th>\n",
       "      <th>Next Weeks Open</th>\n",
       "      <th>High</th>\n",
       "      <th>Low</th>\n",
       "      <th>Close</th>\n",
       "      <th>Open</th>\n",
       "      <th>Yest.Open</th>\n",
       "      <th>Yest.Close</th>\n",
       "      <th>Yest.High</th>\n",
       "      <th>Yest.Low</th>\n",
       "      <th>Yest.Percent.Change.Price</th>\n",
       "    </tr>\n",
       "  </thead>\n",
       "  <tbody>\n",
       "    <tr>\n",
       "      <th>5</th>\n",
       "      <td>1</td>\n",
       "      <td>AA</td>\n",
       "      <td>2/11/2011</td>\n",
       "      <td>114691279</td>\n",
       "      <td>0.230814</td>\n",
       "      <td>-25.712195</td>\n",
       "      <td>154387761.0</td>\n",
       "      <td>-1.407496</td>\n",
       "      <td>-0.013277</td>\n",
       "      <td>85.0</td>\n",
       "      <td>...</td>\n",
       "      <td>1.21</td>\n",
       "      <td>0.85</td>\n",
       "      <td>1.15</td>\n",
       "      <td>1.24</td>\n",
       "      <td>1.46</td>\n",
       "      <td>-0.84</td>\n",
       "      <td>0.16</td>\n",
       "      <td>-0.08</td>\n",
       "      <td>0.18</td>\n",
       "      <td>6.066800</td>\n",
       "    </tr>\n",
       "    <tr>\n",
       "      <th>6</th>\n",
       "      <td>1</td>\n",
       "      <td>AA</td>\n",
       "      <td>2/18/2011</td>\n",
       "      <td>80023895</td>\n",
       "      <td>-0.632547</td>\n",
       "      <td>-30.226696</td>\n",
       "      <td>114691279.0</td>\n",
       "      <td>-6.565797</td>\n",
       "      <td>-0.001418</td>\n",
       "      <td>-14.0</td>\n",
       "      <td>...</td>\n",
       "      <td>-0.35</td>\n",
       "      <td>0.29</td>\n",
       "      <td>1.10</td>\n",
       "      <td>0.14</td>\n",
       "      <td>1.21</td>\n",
       "      <td>-0.01</td>\n",
       "      <td>1.35</td>\n",
       "      <td>1.01</td>\n",
       "      <td>0.58</td>\n",
       "      <td>8.403910</td>\n",
       "    </tr>\n",
       "    <tr>\n",
       "      <th>7</th>\n",
       "      <td>1</td>\n",
       "      <td>AA</td>\n",
       "      <td>2/25/2011</td>\n",
       "      <td>132981863</td>\n",
       "      <td>-1.766780</td>\n",
       "      <td>66.177694</td>\n",
       "      <td>80023895.0</td>\n",
       "      <td>-1.997594</td>\n",
       "      <td>0.007144</td>\n",
       "      <td>-14.0</td>\n",
       "      <td>...</td>\n",
       "      <td>-0.58</td>\n",
       "      <td>-0.33</td>\n",
       "      <td>-1.01</td>\n",
       "      <td>-0.69</td>\n",
       "      <td>-0.35</td>\n",
       "      <td>1.46</td>\n",
       "      <td>1.24</td>\n",
       "      <td>0.85</td>\n",
       "      <td>1.15</td>\n",
       "      <td>-1.407496</td>\n",
       "    </tr>\n",
       "    <tr>\n",
       "      <th>8</th>\n",
       "      <td>1</td>\n",
       "      <td>AA</td>\n",
       "      <td>3/4/2011</td>\n",
       "      <td>109493077</td>\n",
       "      <td>-1.368230</td>\n",
       "      <td>-17.663150</td>\n",
       "      <td>132981863.0</td>\n",
       "      <td>-0.735683</td>\n",
       "      <td>0.007330</td>\n",
       "      <td>-14.0</td>\n",
       "      <td>...</td>\n",
       "      <td>-0.40</td>\n",
       "      <td>-0.74</td>\n",
       "      <td>-1.15</td>\n",
       "      <td>-0.70</td>\n",
       "      <td>-0.58</td>\n",
       "      <td>1.21</td>\n",
       "      <td>0.14</td>\n",
       "      <td>0.29</td>\n",
       "      <td>1.10</td>\n",
       "      <td>-6.565797</td>\n",
       "    </tr>\n",
       "    <tr>\n",
       "      <th>9</th>\n",
       "      <td>1</td>\n",
       "      <td>AA</td>\n",
       "      <td>3/11/2011</td>\n",
       "      <td>114332562</td>\n",
       "      <td>-3.317250</td>\n",
       "      <td>4.419900</td>\n",
       "      <td>109493077.0</td>\n",
       "      <td>-1.550470</td>\n",
       "      <td>0.007293</td>\n",
       "      <td>-14.0</td>\n",
       "      <td>...</td>\n",
       "      <td>-0.86</td>\n",
       "      <td>-0.40</td>\n",
       "      <td>-0.54</td>\n",
       "      <td>-0.65</td>\n",
       "      <td>-0.40</td>\n",
       "      <td>-0.35</td>\n",
       "      <td>-0.69</td>\n",
       "      <td>-0.33</td>\n",
       "      <td>-1.01</td>\n",
       "      <td>-1.997594</td>\n",
       "    </tr>\n",
       "  </tbody>\n",
       "</table>\n",
       "<p>5 rows × 22 columns</p>\n",
       "</div>"
      ],
      "text/plain": [
       "   quarter stock       date     volume  percent_change_price  \\\n",
       "5        1    AA  2/11/2011  114691279              0.230814   \n",
       "6        1    AA  2/18/2011   80023895             -0.632547   \n",
       "7        1    AA  2/25/2011  132981863             -1.766780   \n",
       "8        1    AA   3/4/2011  109493077             -1.368230   \n",
       "9        1    AA  3/11/2011  114332562             -3.317250   \n",
       "\n",
       "   percent_change_volume_over_last_wk  previous_weeks_volume  \\\n",
       "5                          -25.712195            154387761.0   \n",
       "6                          -30.226696            114691279.0   \n",
       "7                           66.177694             80023895.0   \n",
       "8                          -17.663150            132981863.0   \n",
       "9                            4.419900            109493077.0   \n",
       "\n",
       "   Percent Change Price  Returned Percentage Next Dividend  \\\n",
       "5             -1.407496                          -0.013277   \n",
       "6             -6.565797                          -0.001418   \n",
       "7             -1.997594                           0.007144   \n",
       "8             -0.735683                           0.007330   \n",
       "9             -1.550470                           0.007293   \n",
       "\n",
       "   Days Until Next Dividend            ...              Next Weeks Open  High  \\\n",
       "5                      85.0            ...                         1.21  0.85   \n",
       "6                     -14.0            ...                        -0.35  0.29   \n",
       "7                     -14.0            ...                        -0.58 -0.33   \n",
       "8                     -14.0            ...                        -0.40 -0.74   \n",
       "9                     -14.0            ...                        -0.86 -0.40   \n",
       "\n",
       "    Low  Close  Open  Yest.Open  Yest.Close  Yest.High  Yest.Low  \\\n",
       "5  1.15   1.24  1.46      -0.84        0.16      -0.08      0.18   \n",
       "6  1.10   0.14  1.21      -0.01        1.35       1.01      0.58   \n",
       "7 -1.01  -0.69 -0.35       1.46        1.24       0.85      1.15   \n",
       "8 -1.15  -0.70 -0.58       1.21        0.14       0.29      1.10   \n",
       "9 -0.54  -0.65 -0.40      -0.35       -0.69      -0.33     -1.01   \n",
       "\n",
       "   Yest.Percent.Change.Price  \n",
       "5                   6.066800  \n",
       "6                   8.403910  \n",
       "7                  -1.407496  \n",
       "8                  -6.565797  \n",
       "9                  -1.997594  \n",
       "\n",
       "[5 rows x 22 columns]"
      ]
     },
     "execution_count": 402,
     "metadata": {},
     "output_type": "execute_result"
    }
   ],
   "source": [
    "df.head()"
   ]
  },
  {
   "cell_type": "markdown",
   "metadata": {},
   "source": [
    "# Looking at Correlation"
   ]
  },
  {
   "cell_type": "code",
   "execution_count": 243,
   "metadata": {
    "scrolled": true
   },
   "outputs": [
    {
     "data": {
      "image/png": "[encoded data removed]",
      "text/plain": [
       "<matplotlib.figure.Figure at 0x11761e160>"
      ]
     },
     "metadata": {},
     "output_type": "display_data"
    }
   ],
   "source": [
    "sns.heatmap(df2.corr(), annot=True);"
   ]
  },
  {
   "cell_type": "code",
   "execution_count": 244,
   "metadata": {},
   "outputs": [
    {
     "data": {
      "image/png": "[encoded data removed]",
      "text/plain": [
       "<matplotlib.figure.Figure at 0x1175bf1d0>"
      ]
     },
     "metadata": {},
     "output_type": "display_data"
    }
   ],
   "source": [
    "plt.subplots(figsize=(16,12))\n",
    "sns.heatmap(df.corr(), annot=True);\n",
    "#plt.xticks(rotation)"
   ]
  },
  {
   "cell_type": "code",
   "execution_count": 246,
   "metadata": {},
   "outputs": [],
   "source": [
    "import statsmodels.api as sm"
   ]
  },
  {
   "cell_type": "code",
   "execution_count": 247,
   "metadata": {},
   "outputs": [
    {
     "data": {
      "text/plain": [
       "<matplotlib.axes._subplots.AxesSubplot at 0x117e04eb8>"
      ]
     },
     "execution_count": 247,
     "metadata": {},
     "output_type": "execute_result"
    },
    {
     "data": {
      "image/png": "[encoded data removed]",
      "text/plain": [
       "<matplotlib.figure.Figure at 0x117ab0e80>"
      ]
     },
     "metadata": {},
     "output_type": "display_data"
    }
   ],
   "source": [
    "sns.distplot(df['percent_change_volume_over_last_wk'])"
   ]
  },
  {
   "cell_type": "code",
   "execution_count": 248,
   "metadata": {},
   "outputs": [
    {
     "data": {
      "text/plain": [
       "<matplotlib.axes._subplots.AxesSubplot at 0x1176265f8>"
      ]
     },
     "execution_count": 248,
     "metadata": {},
     "output_type": "execute_result"
    },
    {
     "data": {
      "image/png": "[encoded data removed]",
      "text/plain": [
       "<matplotlib.figure.Figure at 0x116d54da0>"
      ]
     },
     "metadata": {},
     "output_type": "display_data"
    }
   ],
   "source": [
    "sns.distplot(df2['Weighted_Price'])"
   ]
  },
  {
   "cell_type": "code",
   "execution_count": 249,
   "metadata": {},
   "outputs": [
    {
     "data": {
      "image/png": "[encoded data removed]",
      "text/plain": [
       "<matplotlib.figure.Figure at 0x11ae4c438>"
      ]
     },
     "metadata": {},
     "output_type": "display_data"
    },
    {
     "data": {
      "image/png": "[encoded data removed]",
      "text/plain": [
       "<matplotlib.figure.Figure at 0x11ae1aa58>"
      ]
     },
     "metadata": {},
     "output_type": "display_data"
    },
    {
     "data": {
      "image/png": "[encoded data removed]",
      "text/plain": [
       "<matplotlib.figure.Figure at 0x1182b7a58>"
      ]
     },
     "metadata": {},
     "output_type": "display_data"
    }
   ],
   "source": [
    "sns.lmplot(x='Volume_(BTC)', y='Open', data=df2)\n",
    "plt.show()\n",
    "sns.lmplot(x='High', y='Open', data=df2)\n",
    "plt.show()\n",
    "sns.lmplot(x='Low', y='Open', data=df2)\n",
    "plt.show()"
   ]
  },
  {
   "cell_type": "code",
   "execution_count": 59,
   "metadata": {},
   "outputs": [
    {
     "data": {
      "image/png": "[encoded data removed]",
      "text/plain": [
       "<matplotlib.figure.Figure at 0x11713e860>"
      ]
     },
     "metadata": {},
     "output_type": "display_data"
    },
    {
     "data": {
      "image/png": "[encoded data removed]",
      "text/plain": [
       "<matplotlib.figure.Figure at 0x117e4d1d0>"
      ]
     },
     "metadata": {},
     "output_type": "display_data"
    },
    {
     "data": {
      "image/png": "[encoded data removed]",
      "text/plain": [
       "<matplotlib.figure.Figure at 0x1172d9630>"
      ]
     },
     "metadata": {},
     "output_type": "display_data"
    }
   ],
   "source": [
    "sns.lmplot(x='volume', y='Open', data=df)\n",
    "plt.show()\n",
    "sns.lmplot(x='High', y='Open', data=df)\n",
    "plt.show()\n",
    "sns.lmplot(x='Low', y='Open', data=df)\n",
    "plt.show()"
   ]
  },
  {
   "cell_type": "code",
   "execution_count": 449,
   "metadata": {},
   "outputs": [
    {
     "data": {
      "image/png": "[encoded data removed]",
      "text/plain": [
       "<matplotlib.figure.Figure at 0x11e69bba8>"
      ]
     },
     "metadata": {},
     "output_type": "display_data"
    }
   ],
   "source": [
    "df2[['high', 'low']].plot();"
   ]
  },
  {
   "cell_type": "code",
   "execution_count": 403,
   "metadata": {},
   "outputs": [
    {
     "data": {
      "text/plain": [
       "<matplotlib.axes._subplots.AxesSubplot at 0x117ecbc18>"
      ]
     },
     "execution_count": 403,
     "metadata": {},
     "output_type": "execute_result"
    },
    {
     "data": {
      "image/png": "[encoded data removed]",
      "text/plain": [
       "<matplotlib.figure.Figure at 0x1180340b8>"
      ]
     },
     "metadata": {},
     "output_type": "display_data"
    }
   ],
   "source": [
    "df.plot()"
   ]
  },
  {
   "cell_type": "markdown",
   "metadata": {},
   "source": [
    "# Applying Models to the Data"
   ]
  },
  {
   "cell_type": "code",
   "execution_count": 404,
   "metadata": {
    "collapsed": true
   },
   "outputs": [],
   "source": [
    "df['Close'] = df['Close'].astype(int)"
   ]
  },
  {
   "cell_type": "code",
   "execution_count": 405,
   "metadata": {
    "collapsed": true
   },
   "outputs": [],
   "source": [
    "X_train, X_test, y_train,  y_test = \\\n",
    "    train_test_split(df[['percent_change_price', 'percent_change_volume_over_last_wk', 'previous_weeks_volume']],\n",
    "                    (df['Close']>0), test_size=.4, \n",
    "                    random_state = 42)b"
   ]
  },
  {
   "cell_type": "markdown",
   "metadata": {},
   "source": [
    "I chose these columns because based on previous analysis it is clear that there are strong correlations between the percentage changes in the price and the closing price, the previous weeks volume is also an important indicator."
   ]
  },
  {
   "cell_type": "code",
   "execution_count": 406,
   "metadata": {},
   "outputs": [
    {
     "data": {
      "text/plain": [
       "(287, 3)"
      ]
     },
     "execution_count": 406,
     "metadata": {},
     "output_type": "execute_result"
    }
   ],
   "source": [
    "X_test.shape"
   ]
  },
  {
   "cell_type": "code",
   "execution_count": 407,
   "metadata": {},
   "outputs": [
    {
     "data": {
      "text/plain": [
       "False    332\n",
       "True      97\n",
       "Name: Close, dtype: int64"
      ]
     },
     "execution_count": 407,
     "metadata": {},
     "output_type": "execute_result"
    }
   ],
   "source": [
    "y_train.value_counts()"
   ]
  },
  {
   "cell_type": "code",
   "execution_count": 408,
   "metadata": {
    "collapsed": true
   },
   "outputs": [],
   "source": [
    "mpipe = make_pipeline(StandardScaler(), LogisticRegressionCV(cv=2))\n",
    "\n",
    "pipe = Pipeline([\n",
    "    ('scale', StandardScaler()),\n",
    "    ('fit', LogisticRegressionCV(cv=2))\n",
    "])"
   ]
  },
  {
   "cell_type": "code",
   "execution_count": 409,
   "metadata": {},
   "outputs": [
    {
     "data": {
      "text/plain": [
       "Pipeline(memory=None,\n",
       "     steps=[('scale', StandardScaler(copy=True, with_mean=True, with_std=True)), ('fit', LogisticRegressionCV(Cs=10, class_weight=None, cv=2, dual=False,\n",
       "           fit_intercept=True, intercept_scaling=1.0, max_iter=100,\n",
       "           multi_class='ovr', n_jobs=1, penalty='l2', random_state=None,\n",
       "           refit=True, scoring=None, solver='lbfgs', tol=0.0001, verbose=0))])"
      ]
     },
     "execution_count": 409,
     "metadata": {},
     "output_type": "execute_result"
    }
   ],
   "source": [
    "pipe.fit(X_train, y_train)"
   ]
  },
  {
   "cell_type": "code",
   "execution_count": 410,
   "metadata": {},
   "outputs": [
    {
     "data": {
      "text/plain": [
       "0.78397212543554007"
      ]
     },
     "execution_count": 410,
     "metadata": {},
     "output_type": "execute_result"
    }
   ],
   "source": [
    "pipe.score(X_test, y_test)"
   ]
  },
  {
   "cell_type": "code",
   "execution_count": 411,
   "metadata": {
    "collapsed": true
   },
   "outputs": [],
   "source": [
    "y_pred = pipe.predict(X_test)"
   ]
  },
  {
   "cell_type": "code",
   "execution_count": 412,
   "metadata": {},
   "outputs": [
    {
     "data": {
      "text/plain": [
       "array([[178,  15],\n",
       "       [ 47,  47]])"
      ]
     },
     "execution_count": 412,
     "metadata": {},
     "output_type": "execute_result"
    }
   ],
   "source": [
    "confusion_matrix(y_test, y_pred)"
   ]
  },
  {
   "cell_type": "markdown",
   "metadata": {},
   "source": [
    "This tells us that there are 178 true negatives, 15 false positives, 47 false negatives and also 47 true positives"
   ]
  },
  {
   "cell_type": "code",
   "execution_count": 413,
   "metadata": {
    "collapsed": true
   },
   "outputs": [],
   "source": [
    "df['Close'] = df['Close'].astype(float)"
   ]
  },
  {
   "cell_type": "code",
   "execution_count": 414,
   "metadata": {},
   "outputs": [
    {
     "name": "stdout",
     "output_type": "stream",
     "text": [
      "                             ARIMA Model Results                              \n",
      "==============================================================================\n",
      "Dep. Variable:                    D.y   No. Observations:                  715\n",
      "Model:                 ARIMA(2, 1, 2)   Log Likelihood               -2962.930\n",
      "Method:                       css-mle   S.D. of innovations             15.173\n",
      "Date:                Sun, 17 Dec 2017   AIC                           5937.860\n",
      "Time:                        22:33:02   BIC                           5965.294\n",
      "Sample:                             1   HQIC                          5948.455\n",
      "                                                                              \n",
      "==============================================================================\n",
      "                 coef    std err          z      P>|z|      [0.025      0.975]\n",
      "------------------------------------------------------------------------------\n",
      "const         -0.0003      0.005     -0.053      0.958      -0.011       0.010\n",
      "ar.L1.D.y      0.0271      0.039      0.696      0.487      -0.049       0.103\n",
      "ar.L2.D.y     -0.0315      0.039     -0.811      0.417      -0.108       0.045\n",
      "ma.L1.D.y     -0.0403      0.012     -3.336      0.001      -0.064      -0.017\n",
      "ma.L2.D.y     -0.9597      0.012    -79.802      0.000      -0.983      -0.936\n",
      "                                    Roots                                    \n",
      "=============================================================================\n",
      "                 Real           Imaginary           Modulus         Frequency\n",
      "-----------------------------------------------------------------------------\n",
      "AR.1            0.4305           -5.6191j            5.6355           -0.2378\n",
      "AR.2            0.4305           +5.6191j            5.6355            0.2378\n",
      "MA.1            1.0000           +0.0000j            1.0000            0.0000\n",
      "MA.2           -1.0419           +0.0000j            1.0419            0.5000\n",
      "-----------------------------------------------------------------------------\n"
     ]
    }
   ],
   "source": [
    "arima_model = ARIMA(df['Close'].values, [2, 1,2])\n",
    "\n",
    "result =arima_model.fit()\n",
    "print(result.summary())"
   ]
  },
  {
   "cell_type": "markdown",
   "metadata": {},
   "source": [
    "This summarizes the coefficient values used as well as the skill of the fit on the on the in-sample observations."
   ]
  },
  {
   "cell_type": "code",
   "execution_count": 415,
   "metadata": {
    "collapsed": true
   },
   "outputs": [],
   "source": [
    "preds = result.predict(100,105)"
   ]
  },
  {
   "cell_type": "code",
   "execution_count": 416,
   "metadata": {
    "collapsed": true
   },
   "outputs": [],
   "source": [
    "fcast = np.concatenate((df.Close,preds),axis=0)"
   ]
  },
  {
   "cell_type": "code",
   "execution_count": 417,
   "metadata": {},
   "outputs": [
    {
     "data": {
      "text/plain": [
       "[<matplotlib.lines.Line2D at 0x11db92e80>,\n",
       " <matplotlib.lines.Line2D at 0x11db9c048>]"
      ]
     },
     "execution_count": 417,
     "metadata": {},
     "output_type": "execute_result"
    },
    {
     "data": {
      "image/png": "[encoded data removed]",
      "text/plain": [
       "<matplotlib.figure.Figure at 0x124d36f98>"
      ]
     },
     "metadata": {},
     "output_type": "display_data"
    }
   ],
   "source": [
    "plt.plot(df.Close, 'o', fcast, 'r--')"
   ]
  },
  {
   "cell_type": "code",
   "execution_count": 418,
   "metadata": {},
   "outputs": [
    {
     "name": "stdout",
     "output_type": "stream",
     "text": [
      "                             ARIMA Model Results                              \n",
      "==============================================================================\n",
      "Dep. Variable:                    D.y   No. Observations:                  715\n",
      "Model:                 ARIMA(2, 1, 2)   Log Likelihood               -2967.124\n",
      "Method:                       css-mle   S.D. of innovations             15.256\n",
      "Date:                Sun, 17 Dec 2017   AIC                           5946.247\n",
      "Time:                        22:33:11   BIC                           5973.681\n",
      "Sample:                             1   HQIC                          5956.841\n",
      "                                                                              \n",
      "==============================================================================\n",
      "                 coef    std err          z      P>|z|      [0.025      0.975]\n",
      "------------------------------------------------------------------------------\n",
      "const         -0.0003      0.006     -0.057      0.955      -0.011       0.011\n",
      "ar.L1.D.y      0.0302      0.039      0.777      0.437      -0.046       0.106\n",
      "ar.L2.D.y     -0.0144      0.039     -0.371      0.711      -0.090       0.062\n",
      "ma.L1.D.y     -0.0215      0.012     -1.792      0.074      -0.045       0.002\n",
      "ma.L2.D.y     -0.9785      0.012    -81.621      0.000      -1.002      -0.955\n",
      "                                    Roots                                    \n",
      "=============================================================================\n",
      "                 Real           Imaginary           Modulus         Frequency\n",
      "-----------------------------------------------------------------------------\n",
      "AR.1            1.0505           -8.2693j            8.3357           -0.2299\n",
      "AR.2            1.0505           +8.2693j            8.3357            0.2299\n",
      "MA.1            1.0000           +0.0000j            1.0000            0.0000\n",
      "MA.2           -1.0220           +0.0000j            1.0220            0.5000\n",
      "-----------------------------------------------------------------------------\n"
     ]
    }
   ],
   "source": [
    "arima_model = ARIMA(df['High'].values, [2, 1,2])\n",
    "\n",
    "result =arima_model.fit()\n",
    "print(result.summary())"
   ]
  },
  {
   "cell_type": "code",
   "execution_count": 452,
   "metadata": {},
   "outputs": [
    {
     "data": {
      "text/plain": [
       "[<matplotlib.lines.Line2D at 0x12453fe80>,\n",
       " <matplotlib.lines.Line2D at 0x12453fcf8>]"
      ]
     },
     "execution_count": 452,
     "metadata": {},
     "output_type": "execute_result"
    },
    {
     "data": {
      "image/png": "[encoded data removed]",
      "text/plain": [
       "<matplotlib.figure.Figure at 0x152abf898>"
      ]
     },
     "metadata": {},
     "output_type": "display_data"
    }
   ],
   "source": [
    "plt.plot(df.High, 'o', fcast, 'r--')"
   ]
  },
  {
   "cell_type": "markdown",
   "metadata": {},
   "source": [
    "# Some Further EDA"
   ]
  },
  {
   "cell_type": "code",
   "execution_count": 265,
   "metadata": {
    "collapsed": true
   },
   "outputs": [],
   "source": [
    "preds = result.predict(100,105)"
   ]
  },
  {
   "cell_type": "code",
   "execution_count": 266,
   "metadata": {
    "collapsed": true
   },
   "outputs": [],
   "source": [
    "df2['close'] = df2['Close'].diff(periods = 2)"
   ]
  },
  {
   "cell_type": "code",
   "execution_count": 267,
   "metadata": {
    "collapsed": true
   },
   "outputs": [],
   "source": [
    "df2['open'] = df2['Open'].diff(periods = 2)"
   ]
  },
  {
   "cell_type": "code",
   "execution_count": 268,
   "metadata": {
    "collapsed": true
   },
   "outputs": [],
   "source": [
    "df2['low'] = df2['Low'].diff(periods = 2)"
   ]
  },
  {
   "cell_type": "code",
   "execution_count": 269,
   "metadata": {
    "collapsed": true
   },
   "outputs": [],
   "source": [
    "df2['high'] = df2['High'].diff(periods = 2)"
   ]
  },
  {
   "cell_type": "code",
   "execution_count": 270,
   "metadata": {
    "collapsed": true
   },
   "outputs": [],
   "source": [
    "df2['volume(BTC)'] = df2['Volume_(BTC)'].diff(periods = 2)"
   ]
  },
  {
   "cell_type": "code",
   "execution_count": 271,
   "metadata": {
    "collapsed": true
   },
   "outputs": [],
   "source": [
    "df2['volume(currency)'] = df2['Volume_(Currency)'].diff(periods = 2)"
   ]
  },
  {
   "cell_type": "code",
   "execution_count": 272,
   "metadata": {
    "collapsed": true
   },
   "outputs": [],
   "source": [
    "df2['weighted price'] = df2['Weighted_Price'].diff(periods = 2)"
   ]
  },
  {
   "cell_type": "code",
   "execution_count": 273,
   "metadata": {
    "collapsed": true
   },
   "outputs": [],
   "source": [
    "df2 = df2.drop('Open', 1)"
   ]
  },
  {
   "cell_type": "code",
   "execution_count": 274,
   "metadata": {
    "collapsed": true
   },
   "outputs": [],
   "source": [
    "df2 = df2.drop('High', 1)"
   ]
  },
  {
   "cell_type": "code",
   "execution_count": 275,
   "metadata": {
    "collapsed": true
   },
   "outputs": [],
   "source": [
    "df2 = df2.drop('Low', 1)"
   ]
  },
  {
   "cell_type": "code",
   "execution_count": 276,
   "metadata": {
    "collapsed": true
   },
   "outputs": [],
   "source": [
    "df2 = df2.drop('Close', 1)"
   ]
  },
  {
   "cell_type": "code",
   "execution_count": 277,
   "metadata": {
    "collapsed": true
   },
   "outputs": [],
   "source": [
    "df2 = df2.drop('Volume_(Currency)', 1)"
   ]
  },
  {
   "cell_type": "code",
   "execution_count": 278,
   "metadata": {
    "collapsed": true
   },
   "outputs": [],
   "source": [
    "df2 = df2.drop('Volume_(BTC)', 1)"
   ]
  },
  {
   "cell_type": "code",
   "execution_count": 279,
   "metadata": {
    "collapsed": true
   },
   "outputs": [],
   "source": [
    "df2 = df2.drop('Weighted_Price', 1)"
   ]
  },
  {
   "cell_type": "code",
   "execution_count": 280,
   "metadata": {
    "collapsed": true
   },
   "outputs": [],
   "source": [
    "df2['Yest.Open'] = df2['open'].shift(periods = 2)"
   ]
  },
  {
   "cell_type": "code",
   "execution_count": 281,
   "metadata": {
    "collapsed": true
   },
   "outputs": [],
   "source": [
    "df2['Yest.Low'] = df2['low'].shift(periods = 2)"
   ]
  },
  {
   "cell_type": "code",
   "execution_count": 282,
   "metadata": {
    "collapsed": true
   },
   "outputs": [],
   "source": [
    "df2['Yest.High'] = df2['high'].shift(periods = 2)"
   ]
  },
  {
   "cell_type": "code",
   "execution_count": 283,
   "metadata": {
    "collapsed": true
   },
   "outputs": [],
   "source": [
    "df2['Yest.Weighted.Price'] = df2['weighted price'].shift(periods = 2)"
   ]
  },
  {
   "cell_type": "code",
   "execution_count": 284,
   "metadata": {
    "collapsed": true
   },
   "outputs": [],
   "source": [
    "df2['Yest.Volume(BTC)'] = df2['volume(BTC)'].shift(periods = 2)"
   ]
  },
  {
   "cell_type": "code",
   "execution_count": 285,
   "metadata": {
    "collapsed": true
   },
   "outputs": [],
   "source": [
    "df2['Yest.Volume(Currency)'] = df2['volume(currency)'].shift(periods = 2)"
   ]
  },
  {
   "cell_type": "code",
   "execution_count": 286,
   "metadata": {},
   "outputs": [
    {
     "data": {
      "text/html": [
       "<div>\n",
       "<style>\n",
       "    .dataframe thead tr:only-child th {\n",
       "        text-align: right;\n",
       "    }\n",
       "\n",
       "    .dataframe thead th {\n",
       "        text-align: left;\n",
       "    }\n",
       "\n",
       "    .dataframe tbody tr th {\n",
       "        vertical-align: top;\n",
       "    }\n",
       "</style>\n",
       "<table border=\"1\" class=\"dataframe\">\n",
       "  <thead>\n",
       "    <tr style=\"text-align: right;\">\n",
       "      <th></th>\n",
       "      <th>Timestamp</th>\n",
       "      <th>close</th>\n",
       "      <th>open</th>\n",
       "      <th>low</th>\n",
       "      <th>high</th>\n",
       "      <th>volume(BTC)</th>\n",
       "      <th>volume(currency)</th>\n",
       "      <th>weighted price</th>\n",
       "      <th>Yest.Open</th>\n",
       "      <th>Yest.Low</th>\n",
       "      <th>Yest.High</th>\n",
       "      <th>Yest.Weighted.Price</th>\n",
       "      <th>Yest.Volume(BTC)</th>\n",
       "      <th>Yest.Volume(Currency)</th>\n",
       "    </tr>\n",
       "  </thead>\n",
       "  <tbody>\n",
       "    <tr>\n",
       "      <th>0</th>\n",
       "      <td>2014-12-01 05:33:00</td>\n",
       "      <td>NaN</td>\n",
       "      <td>NaN</td>\n",
       "      <td>NaN</td>\n",
       "      <td>NaN</td>\n",
       "      <td>NaN</td>\n",
       "      <td>NaN</td>\n",
       "      <td>NaN</td>\n",
       "      <td>NaN</td>\n",
       "      <td>NaN</td>\n",
       "      <td>NaN</td>\n",
       "      <td>NaN</td>\n",
       "      <td>NaN</td>\n",
       "      <td>NaN</td>\n",
       "    </tr>\n",
       "    <tr>\n",
       "      <th>7</th>\n",
       "      <td>2014-12-01 05:40:00</td>\n",
       "      <td>NaN</td>\n",
       "      <td>NaN</td>\n",
       "      <td>NaN</td>\n",
       "      <td>NaN</td>\n",
       "      <td>NaN</td>\n",
       "      <td>NaN</td>\n",
       "      <td>NaN</td>\n",
       "      <td>NaN</td>\n",
       "      <td>NaN</td>\n",
       "      <td>NaN</td>\n",
       "      <td>NaN</td>\n",
       "      <td>NaN</td>\n",
       "      <td>NaN</td>\n",
       "    </tr>\n",
       "    <tr>\n",
       "      <th>51</th>\n",
       "      <td>2014-12-01 06:24:00</td>\n",
       "      <td>70.0</td>\n",
       "      <td>70.0</td>\n",
       "      <td>70.0</td>\n",
       "      <td>70.0</td>\n",
       "      <td>0.000000</td>\n",
       "      <td>0.70000</td>\n",
       "      <td>70.0</td>\n",
       "      <td>NaN</td>\n",
       "      <td>NaN</td>\n",
       "      <td>NaN</td>\n",
       "      <td>NaN</td>\n",
       "      <td>NaN</td>\n",
       "      <td>NaN</td>\n",
       "    </tr>\n",
       "    <tr>\n",
       "      <th>77</th>\n",
       "      <td>2014-12-01 06:50:00</td>\n",
       "      <td>70.0</td>\n",
       "      <td>70.0</td>\n",
       "      <td>70.0</td>\n",
       "      <td>70.0</td>\n",
       "      <td>0.016556</td>\n",
       "      <td>6.82555</td>\n",
       "      <td>70.0</td>\n",
       "      <td>NaN</td>\n",
       "      <td>NaN</td>\n",
       "      <td>NaN</td>\n",
       "      <td>NaN</td>\n",
       "      <td>NaN</td>\n",
       "      <td>NaN</td>\n",
       "    </tr>\n",
       "    <tr>\n",
       "      <th>1436</th>\n",
       "      <td>2014-12-02 05:29:00</td>\n",
       "      <td>7.0</td>\n",
       "      <td>7.0</td>\n",
       "      <td>7.0</td>\n",
       "      <td>7.0</td>\n",
       "      <td>0.000000</td>\n",
       "      <td>0.07000</td>\n",
       "      <td>7.0</td>\n",
       "      <td>70.0</td>\n",
       "      <td>70.0</td>\n",
       "      <td>70.0</td>\n",
       "      <td>70.0</td>\n",
       "      <td>0.0</td>\n",
       "      <td>0.7</td>\n",
       "    </tr>\n",
       "  </tbody>\n",
       "</table>\n",
       "</div>"
      ],
      "text/plain": [
       "               Timestamp  close  open   low  high  volume(BTC)  \\\n",
       "0    2014-12-01 05:33:00    NaN   NaN   NaN   NaN          NaN   \n",
       "7    2014-12-01 05:40:00    NaN   NaN   NaN   NaN          NaN   \n",
       "51   2014-12-01 06:24:00   70.0  70.0  70.0  70.0     0.000000   \n",
       "77   2014-12-01 06:50:00   70.0  70.0  70.0  70.0     0.016556   \n",
       "1436 2014-12-02 05:29:00    7.0   7.0   7.0   7.0     0.000000   \n",
       "\n",
       "      volume(currency)  weighted price  Yest.Open  Yest.Low  Yest.High  \\\n",
       "0                  NaN             NaN        NaN       NaN        NaN   \n",
       "7                  NaN             NaN        NaN       NaN        NaN   \n",
       "51             0.70000            70.0        NaN       NaN        NaN   \n",
       "77             6.82555            70.0        NaN       NaN        NaN   \n",
       "1436           0.07000             7.0       70.0      70.0       70.0   \n",
       "\n",
       "      Yest.Weighted.Price  Yest.Volume(BTC)  Yest.Volume(Currency)  \n",
       "0                     NaN               NaN                    NaN  \n",
       "7                     NaN               NaN                    NaN  \n",
       "51                    NaN               NaN                    NaN  \n",
       "77                    NaN               NaN                    NaN  \n",
       "1436                 70.0               0.0                    0.7  "
      ]
     },
     "execution_count": 286,
     "metadata": {},
     "output_type": "execute_result"
    }
   ],
   "source": [
    "df2.head()"
   ]
  },
  {
   "cell_type": "code",
   "execution_count": 287,
   "metadata": {
    "collapsed": true
   },
   "outputs": [],
   "source": [
    "df2 = df2.iloc[4:,:]"
   ]
  },
  {
   "cell_type": "markdown",
   "metadata": {},
   "source": [
    "# Further Testing"
   ]
  },
  {
   "cell_type": "code",
   "execution_count": 288,
   "metadata": {
    "collapsed": true
   },
   "outputs": [],
   "source": [
    "X_train, X_test, y_train, y_test = \\\n",
    "    train_test_split(df2[['Yest.Open', 'Yest.Low']].values, df2['open'].values)"
   ]
  },
  {
   "cell_type": "code",
   "execution_count": 289,
   "metadata": {},
   "outputs": [
    {
     "name": "stdout",
     "output_type": "stream",
     "text": [
      "(861218, 2) (287073, 2) (861218,) (287073,)\n"
     ]
    }
   ],
   "source": [
    "print(X_train.shape, X_test.shape, y_train.shape, y_test.shape)"
   ]
  },
  {
   "cell_type": "code",
   "execution_count": 290,
   "metadata": {},
   "outputs": [
    {
     "name": "stdout",
     "output_type": "stream",
     "text": [
      "0.1694924997\n"
     ]
    }
   ],
   "source": [
    "lr = LinearRegression()\n",
    "lr.fit(X_train, y_train)\n",
    "print(lr.score(X_train, y_train))"
   ]
  },
  {
   "cell_type": "code",
   "execution_count": 291,
   "metadata": {
    "collapsed": true
   },
   "outputs": [],
   "source": [
    "X_train, X_test, y_train, y_test = \\\n",
    "    train_test_split(df2[['Yest.High']].values, df2['open'].values)"
   ]
  },
  {
   "cell_type": "code",
   "execution_count": 292,
   "metadata": {},
   "outputs": [
    {
     "name": "stdout",
     "output_type": "stream",
     "text": [
      "(861218, 1) (287073, 1) (861218,) (287073,)\n"
     ]
    }
   ],
   "source": [
    "print(X_train.shape, X_test.shape, y_train.shape, y_test.shape)"
   ]
  },
  {
   "cell_type": "code",
   "execution_count": 293,
   "metadata": {},
   "outputs": [
    {
     "name": "stdout",
     "output_type": "stream",
     "text": [
      "0.0516843303437\n"
     ]
    }
   ],
   "source": [
    "lr = LinearRegression()\n",
    "lr.fit(X_train, y_train)\n",
    "print(lr.score(X_train, y_train))"
   ]
  },
  {
   "cell_type": "code",
   "execution_count": 294,
   "metadata": {
    "collapsed": true
   },
   "outputs": [],
   "source": [
    "X_train, X_test, y_train, y_test = \\\n",
    "    train_test_split(df2[['Yest.Volume(BTC)']].values, df2['open'].values)"
   ]
  },
  {
   "cell_type": "code",
   "execution_count": 295,
   "metadata": {},
   "outputs": [
    {
     "name": "stdout",
     "output_type": "stream",
     "text": [
      "(861218, 1) (287073, 1) (861218,) (287073,)\n"
     ]
    }
   ],
   "source": [
    "print(X_train.shape, X_test.shape, y_train.shape, y_test.shape)"
   ]
  },
  {
   "cell_type": "code",
   "execution_count": 296,
   "metadata": {},
   "outputs": [
    {
     "name": "stdout",
     "output_type": "stream",
     "text": [
      "0.00164976556069\n"
     ]
    }
   ],
   "source": [
    "lr = LinearRegression()\n",
    "lr.fit(X_train, y_train)\n",
    "print(lr.score(X_train, y_train))"
   ]
  },
  {
   "cell_type": "code",
   "execution_count": 297,
   "metadata": {
    "collapsed": true
   },
   "outputs": [],
   "source": [
    "X_train, X_test, y_train, y_test = \\\n",
    "    train_test_split(df2[['Yest.Weighted.Price']].values, df2['open'].values)"
   ]
  },
  {
   "cell_type": "code",
   "execution_count": 298,
   "metadata": {},
   "outputs": [
    {
     "name": "stdout",
     "output_type": "stream",
     "text": [
      "(861218, 1) (287073, 1) (861218,) (287073,)\n"
     ]
    }
   ],
   "source": [
    "print(X_train.shape, X_test.shape, y_train.shape, y_test.shape)"
   ]
  },
  {
   "cell_type": "code",
   "execution_count": 299,
   "metadata": {},
   "outputs": [
    {
     "name": "stdout",
     "output_type": "stream",
     "text": [
      "0.0287645125038\n"
     ]
    }
   ],
   "source": [
    "lr = LinearRegression()\n",
    "lr.fit(X_train, y_train)\n",
    "print(lr.score(X_train, y_train))"
   ]
  },
  {
   "cell_type": "code",
   "execution_count": 300,
   "metadata": {},
   "outputs": [
    {
     "name": "stdout",
     "output_type": "stream",
     "text": [
      "0.701779839401\n"
     ]
    }
   ],
   "source": [
    "rfr = RandomForestRegressor()\n",
    "rfr.fit(X_train, y_train)\n",
    "print(rfr.score(X_train, y_train))"
   ]
  },
  {
   "cell_type": "code",
   "execution_count": 301,
   "metadata": {},
   "outputs": [
    {
     "name": "stdout",
     "output_type": "stream",
     "text": [
      "-0.7036566309\n"
     ]
    }
   ],
   "source": [
    "print(rfr.score(X_test, y_test))"
   ]
  },
  {
   "cell_type": "code",
   "execution_count": 302,
   "metadata": {},
   "outputs": [
    {
     "name": "stdout",
     "output_type": "stream",
     "text": [
      "-0.110087639025\n"
     ]
    }
   ],
   "source": [
    "print(lr.score(X_test, y_test))"
   ]
  },
  {
   "cell_type": "markdown",
   "metadata": {},
   "source": [
    "Clearly the dataset is overfit "
   ]
  },
  {
   "cell_type": "code",
   "execution_count": 303,
   "metadata": {},
   "outputs": [
    {
     "name": "stdout",
     "output_type": "stream",
     "text": [
      "0.409856381046\n"
     ]
    }
   ],
   "source": [
    "abr = AdaBoostRegressor()\n",
    "abr.fit(X_train, y_train)\n",
    "print(abr.score(X_train, y_train))"
   ]
  },
  {
   "cell_type": "code",
   "execution_count": 304,
   "metadata": {
    "collapsed": true
   },
   "outputs": [],
   "source": [
    "X_train, X_test, y_train, y_test = \\\n",
    "    train_test_split(df[['Yest.Open', 'Yest.Low']].values, df['Open'].values)"
   ]
  },
  {
   "cell_type": "code",
   "execution_count": 305,
   "metadata": {},
   "outputs": [
    {
     "name": "stdout",
     "output_type": "stream",
     "text": [
      "(537, 2) (179, 2) (537,) (179,)\n"
     ]
    }
   ],
   "source": [
    "print(X_train.shape, X_test.shape, y_train.shape, y_test.shape)"
   ]
  },
  {
   "cell_type": "code",
   "execution_count": 306,
   "metadata": {},
   "outputs": [
    {
     "name": "stdout",
     "output_type": "stream",
     "text": [
      "0.00342095111797\n"
     ]
    }
   ],
   "source": [
    "lr = LinearRegression()\n",
    "lr.fit(X_train, y_train)\n",
    "print(lr.score(X_train, y_train))"
   ]
  },
  {
   "cell_type": "code",
   "execution_count": 307,
   "metadata": {
    "collapsed": true
   },
   "outputs": [],
   "source": [
    "X_train, X_test, y_train, y_test = \\\n",
    "    train_test_split(df[['Yest.High']].values, df['Open'].values)"
   ]
  },
  {
   "cell_type": "code",
   "execution_count": 308,
   "metadata": {},
   "outputs": [
    {
     "name": "stdout",
     "output_type": "stream",
     "text": [
      "(537, 1) (179, 1) (537,) (179,)\n"
     ]
    }
   ],
   "source": [
    "print(X_train.shape, X_test.shape, y_train.shape, y_test.shape)"
   ]
  },
  {
   "cell_type": "code",
   "execution_count": 309,
   "metadata": {},
   "outputs": [
    {
     "name": "stdout",
     "output_type": "stream",
     "text": [
      "0.000310199844289\n"
     ]
    }
   ],
   "source": [
    "lr = LinearRegression()\n",
    "lr.fit(X_train, y_train)\n",
    "print(lr.score(X_train, y_train))"
   ]
  },
  {
   "cell_type": "code",
   "execution_count": 310,
   "metadata": {
    "collapsed": true
   },
   "outputs": [],
   "source": [
    "X_train, X_test, y_train, y_test = \\\n",
    "    train_test_split(df[['Yest.Percent.Change.Price']].values, df['Open'].values)"
   ]
  },
  {
   "cell_type": "code",
   "execution_count": 311,
   "metadata": {},
   "outputs": [
    {
     "name": "stdout",
     "output_type": "stream",
     "text": [
      "(537, 1) (179, 1) (537,) (179,)\n"
     ]
    }
   ],
   "source": [
    "print(X_train.shape, X_test.shape, y_train.shape, y_test.shape)"
   ]
  },
  {
   "cell_type": "code",
   "execution_count": 312,
   "metadata": {},
   "outputs": [
    {
     "name": "stdout",
     "output_type": "stream",
     "text": [
      "0.000599952530177\n"
     ]
    }
   ],
   "source": [
    "lr = LinearRegression()\n",
    "lr.fit(X_train, y_train)\n",
    "print(lr.score(X_train, y_train))"
   ]
  },
  {
   "cell_type": "code",
   "execution_count": 313,
   "metadata": {},
   "outputs": [
    {
     "name": "stdout",
     "output_type": "stream",
     "text": [
      "0.708689083532\n"
     ]
    }
   ],
   "source": [
    "rfr = RandomForestRegressor()\n",
    "rfr.fit(X_train, y_train)\n",
    "print(rfr.score(X_train, y_train))"
   ]
  },
  {
   "cell_type": "code",
   "execution_count": 314,
   "metadata": {},
   "outputs": [
    {
     "name": "stdout",
     "output_type": "stream",
     "text": [
      "-0.409541350702\n"
     ]
    }
   ],
   "source": [
    "print(rfr.score(X_test, y_test))"
   ]
  },
  {
   "cell_type": "code",
   "execution_count": 315,
   "metadata": {},
   "outputs": [
    {
     "data": {
      "text/plain": [
       "<matplotlib.axes._subplots.AxesSubplot at 0x1182f1048>"
      ]
     },
     "execution_count": 315,
     "metadata": {},
     "output_type": "execute_result"
    },
    {
     "data": {
      "image/png": "[encoded data removed]",
      "text/plain": [
       "<matplotlib.figure.Figure at 0x1183afdd8>"
      ]
     },
     "metadata": {},
     "output_type": "display_data"
    }
   ],
   "source": [
    "df2.plot()"
   ]
  },
  {
   "cell_type": "code",
   "execution_count": 316,
   "metadata": {},
   "outputs": [
    {
     "data": {
      "image/png": "[encoded data removed]",
      "text/plain": [
       "<matplotlib.figure.Figure at 0x11adc2ef0>"
      ]
     },
     "metadata": {},
     "output_type": "display_data"
    }
   ],
   "source": [
    "plt.hist(df['volume']);"
   ]
  },
  {
   "cell_type": "code",
   "execution_count": 460,
   "metadata": {},
   "outputs": [
    {
     "data": {
      "image/png": "[encoded data removed]",
      "text/plain": [
       "<matplotlib.figure.Figure at 0x152a63dd8>"
      ]
     },
     "metadata": {},
     "output_type": "display_data"
    }
   ],
   "source": [
    "plt.hist(df2['volume(BTC)']);"
   ]
  },
  {
   "cell_type": "markdown",
   "metadata": {},
   "source": [
    "This tells us that the volume for the DJIA has stayed fairly consistent"
   ]
  },
  {
   "cell_type": "code",
   "execution_count": 317,
   "metadata": {},
   "outputs": [
    {
     "data": {
      "image/png": "[encoded data removed]",
      "text/plain": [
       "<matplotlib.figure.Figure at 0x157229358>"
      ]
     },
     "metadata": {},
     "output_type": "display_data"
    }
   ],
   "source": [
    "plt.hist(df['Yest.Percent.Change.Price']);"
   ]
  },
  {
   "cell_type": "code",
   "execution_count": 318,
   "metadata": {},
   "outputs": [
    {
     "data": {
      "image/png": "[encoded data removed]",
      "text/plain": [
       "<matplotlib.figure.Figure at 0x157229dd8>"
      ]
     },
     "metadata": {},
     "output_type": "display_data"
    }
   ],
   "source": [
    "plt.hist(df['Next Weeks Open']);"
   ]
  },
  {
   "cell_type": "code",
   "execution_count": 319,
   "metadata": {},
   "outputs": [
    {
     "data": {
      "text/plain": [
       "[<matplotlib.lines.Line2D at 0x1180ec198>]"
      ]
     },
     "execution_count": 319,
     "metadata": {},
     "output_type": "execute_result"
    },
    {
     "data": {
      "image/png": "[encoded data removed]",
      "text/plain": [
       "<matplotlib.figure.Figure at 0x117d4eb70>"
      ]
     },
     "metadata": {},
     "output_type": "display_data"
    }
   ],
   "source": [
    "plt.plot(X_train)"
   ]
  },
  {
   "cell_type": "code",
   "execution_count": 354,
   "metadata": {},
   "outputs": [
    {
     "data": {
      "text/html": [
       "<div>\n",
       "<style>\n",
       "    .dataframe thead tr:only-child th {\n",
       "        text-align: right;\n",
       "    }\n",
       "\n",
       "    .dataframe thead th {\n",
       "        text-align: left;\n",
       "    }\n",
       "\n",
       "    .dataframe tbody tr th {\n",
       "        vertical-align: top;\n",
       "    }\n",
       "</style>\n",
       "<table border=\"1\" class=\"dataframe\">\n",
       "  <thead>\n",
       "    <tr style=\"text-align: right;\">\n",
       "      <th></th>\n",
       "      <th>Timestamp</th>\n",
       "      <th>close</th>\n",
       "      <th>open</th>\n",
       "      <th>low</th>\n",
       "      <th>high</th>\n",
       "      <th>volume(BTC)</th>\n",
       "      <th>volume(currency)</th>\n",
       "      <th>weighted price</th>\n",
       "      <th>Yest.Open</th>\n",
       "      <th>Yest.Low</th>\n",
       "      <th>Yest.High</th>\n",
       "      <th>Yest.Weighted.Price</th>\n",
       "      <th>Yest.Volume(BTC)</th>\n",
       "      <th>Yest.Volume(Currency)</th>\n",
       "      <th>high_avg_2days</th>\n",
       "      <th>high_avg_4days</th>\n",
       "      <th>high_avg_6days</th>\n",
       "      <th>high_avg_8days</th>\n",
       "      <th>high_avg_10days</th>\n",
       "    </tr>\n",
       "  </thead>\n",
       "  <tbody>\n",
       "    <tr>\n",
       "      <th>4114</th>\n",
       "      <td>2014-12-12 03:44:00</td>\n",
       "      <td>-19.00</td>\n",
       "      <td>-18.50</td>\n",
       "      <td>-19.00</td>\n",
       "      <td>-18.50</td>\n",
       "      <td>1.04</td>\n",
       "      <td>373.9450</td>\n",
       "      <td>-18.545872</td>\n",
       "      <td>-19.00</td>\n",
       "      <td>-19.00</td>\n",
       "      <td>-19.00</td>\n",
       "      <td>-19.000000</td>\n",
       "      <td>0.04</td>\n",
       "      <td>14.9700</td>\n",
       "      <td>-7.005</td>\n",
       "      <td>-11.8800</td>\n",
       "      <td>-4.935000</td>\n",
       "      <td>-3.69000</td>\n",
       "      <td>-3.051</td>\n",
       "    </tr>\n",
       "    <tr>\n",
       "      <th>4116</th>\n",
       "      <td>2014-12-12 03:46:00</td>\n",
       "      <td>-14.99</td>\n",
       "      <td>-14.99</td>\n",
       "      <td>-14.99</td>\n",
       "      <td>-14.99</td>\n",
       "      <td>1.99</td>\n",
       "      <td>696.3501</td>\n",
       "      <td>-14.990000</td>\n",
       "      <td>4.49</td>\n",
       "      <td>4.49</td>\n",
       "      <td>4.49</td>\n",
       "      <td>4.490000</td>\n",
       "      <td>0.00</td>\n",
       "      <td>0.0449</td>\n",
       "      <td>-16.745</td>\n",
       "      <td>-12.0000</td>\n",
       "      <td>-7.085000</td>\n",
       "      <td>-5.57500</td>\n",
       "      <td>-4.451</td>\n",
       "    </tr>\n",
       "    <tr>\n",
       "      <th>4117</th>\n",
       "      <td>2014-12-18 20:56:00</td>\n",
       "      <td>-20.00</td>\n",
       "      <td>-15.50</td>\n",
       "      <td>-20.00</td>\n",
       "      <td>-15.50</td>\n",
       "      <td>0.91</td>\n",
       "      <td>292.1050</td>\n",
       "      <td>-17.954128</td>\n",
       "      <td>-18.50</td>\n",
       "      <td>-19.00</td>\n",
       "      <td>-18.50</td>\n",
       "      <td>-18.545872</td>\n",
       "      <td>1.04</td>\n",
       "      <td>373.9450</td>\n",
       "      <td>-15.245</td>\n",
       "      <td>-11.1250</td>\n",
       "      <td>-13.001667</td>\n",
       "      <td>-7.51250</td>\n",
       "      <td>-6.001</td>\n",
       "    </tr>\n",
       "    <tr>\n",
       "      <th>4118</th>\n",
       "      <td>2015-01-08 01:24:00</td>\n",
       "      <td>10.00</td>\n",
       "      <td>10.00</td>\n",
       "      <td>10.00</td>\n",
       "      <td>10.00</td>\n",
       "      <td>-1.99</td>\n",
       "      <td>-696.4000</td>\n",
       "      <td>10.000000</td>\n",
       "      <td>-14.99</td>\n",
       "      <td>-14.99</td>\n",
       "      <td>-14.99</td>\n",
       "      <td>-14.990000</td>\n",
       "      <td>1.99</td>\n",
       "      <td>696.3501</td>\n",
       "      <td>-2.750</td>\n",
       "      <td>-9.7475</td>\n",
       "      <td>-8.916667</td>\n",
       "      <td>-6.00125</td>\n",
       "      <td>-5.010</td>\n",
       "    </tr>\n",
       "    <tr>\n",
       "      <th>4121</th>\n",
       "      <td>2015-01-08 01:27:00</td>\n",
       "      <td>-63.66</td>\n",
       "      <td>-73.16</td>\n",
       "      <td>-68.16</td>\n",
       "      <td>-68.66</td>\n",
       "      <td>-1.98</td>\n",
       "      <td>-679.5182</td>\n",
       "      <td>-68.410000</td>\n",
       "      <td>-15.50</td>\n",
       "      <td>-20.00</td>\n",
       "      <td>-15.50</td>\n",
       "      <td>-17.954128</td>\n",
       "      <td>0.91</td>\n",
       "      <td>292.1050</td>\n",
       "      <td>-29.330</td>\n",
       "      <td>-22.2875</td>\n",
       "      <td>-17.193333</td>\n",
       "      <td>-17.08375</td>\n",
       "      <td>-11.876</td>\n",
       "    </tr>\n",
       "  </tbody>\n",
       "</table>\n",
       "</div>"
      ],
      "text/plain": [
       "               Timestamp  close   open    low   high  volume(BTC)  \\\n",
       "4114 2014-12-12 03:44:00 -19.00 -18.50 -19.00 -18.50         1.04   \n",
       "4116 2014-12-12 03:46:00 -14.99 -14.99 -14.99 -14.99         1.99   \n",
       "4117 2014-12-18 20:56:00 -20.00 -15.50 -20.00 -15.50         0.91   \n",
       "4118 2015-01-08 01:24:00  10.00  10.00  10.00  10.00        -1.99   \n",
       "4121 2015-01-08 01:27:00 -63.66 -73.16 -68.16 -68.66        -1.98   \n",
       "\n",
       "      volume(currency)  weighted price  Yest.Open  Yest.Low  Yest.High  \\\n",
       "4114          373.9450      -18.545872     -19.00    -19.00     -19.00   \n",
       "4116          696.3501      -14.990000       4.49      4.49       4.49   \n",
       "4117          292.1050      -17.954128     -18.50    -19.00     -18.50   \n",
       "4118         -696.4000       10.000000     -14.99    -14.99     -14.99   \n",
       "4121         -679.5182      -68.410000     -15.50    -20.00     -15.50   \n",
       "\n",
       "      Yest.Weighted.Price  Yest.Volume(BTC)  Yest.Volume(Currency)  \\\n",
       "4114           -19.000000              0.04                14.9700   \n",
       "4116             4.490000              0.00                 0.0449   \n",
       "4117           -18.545872              1.04               373.9450   \n",
       "4118           -14.990000              1.99               696.3501   \n",
       "4121           -17.954128              0.91               292.1050   \n",
       "\n",
       "      high_avg_2days  high_avg_4days  high_avg_6days  high_avg_8days  \\\n",
       "4114          -7.005        -11.8800       -4.935000        -3.69000   \n",
       "4116         -16.745        -12.0000       -7.085000        -5.57500   \n",
       "4117         -15.245        -11.1250      -13.001667        -7.51250   \n",
       "4118          -2.750         -9.7475       -8.916667        -6.00125   \n",
       "4121         -29.330        -22.2875      -17.193333       -17.08375   \n",
       "\n",
       "      high_avg_10days  \n",
       "4114           -3.051  \n",
       "4116           -4.451  \n",
       "4117           -6.001  \n",
       "4118           -5.010  \n",
       "4121          -11.876  "
      ]
     },
     "execution_count": 354,
     "metadata": {},
     "output_type": "execute_result"
    }
   ],
   "source": [
    "df2.head()"
   ]
  },
  {
   "cell_type": "code",
   "execution_count": 349,
   "metadata": {
    "collapsed": true
   },
   "outputs": [],
   "source": [
    "df2 = df2.iloc[10:,:]"
   ]
  },
  {
   "cell_type": "code",
   "execution_count": 330,
   "metadata": {
    "collapsed": true
   },
   "outputs": [],
   "source": [
    "df2['high_avg_2days'] = df2['high'].rolling(window=2).mean()"
   ]
  },
  {
   "cell_type": "code",
   "execution_count": 331,
   "metadata": {
    "collapsed": true
   },
   "outputs": [],
   "source": [
    "df2['high_avg_4days'] = df2['high'].rolling(window=4).mean()"
   ]
  },
  {
   "cell_type": "code",
   "execution_count": 332,
   "metadata": {
    "collapsed": true
   },
   "outputs": [],
   "source": [
    "df2['high_avg_6days'] = df2['high'].rolling(window=6).mean()"
   ]
  },
  {
   "cell_type": "code",
   "execution_count": 333,
   "metadata": {
    "collapsed": true
   },
   "outputs": [],
   "source": [
    "df2['high_avg_8days'] = df2['high'].rolling(window=8).mean()"
   ]
  },
  {
   "cell_type": "code",
   "execution_count": 334,
   "metadata": {
    "collapsed": true
   },
   "outputs": [],
   "source": [
    "df2['high_avg_10days'] = df2['high'].rolling(window=10).mean()"
   ]
  },
  {
   "cell_type": "code",
   "execution_count": 337,
   "metadata": {},
   "outputs": [
    {
     "data": {
      "text/html": [
       "<div>\n",
       "<style>\n",
       "    .dataframe thead tr:only-child th {\n",
       "        text-align: right;\n",
       "    }\n",
       "\n",
       "    .dataframe thead th {\n",
       "        text-align: left;\n",
       "    }\n",
       "\n",
       "    .dataframe tbody tr th {\n",
       "        vertical-align: top;\n",
       "    }\n",
       "</style>\n",
       "<table border=\"1\" class=\"dataframe\">\n",
       "  <thead>\n",
       "    <tr style=\"text-align: right;\">\n",
       "      <th></th>\n",
       "      <th>Timestamp</th>\n",
       "      <th>close</th>\n",
       "      <th>open</th>\n",
       "      <th>low</th>\n",
       "      <th>high</th>\n",
       "      <th>volume(BTC)</th>\n",
       "      <th>volume(currency)</th>\n",
       "      <th>weighted price</th>\n",
       "      <th>Yest.Open</th>\n",
       "      <th>Yest.Low</th>\n",
       "      <th>Yest.High</th>\n",
       "      <th>Yest.Weighted.Price</th>\n",
       "      <th>Yest.Volume(BTC)</th>\n",
       "      <th>Yest.Volume(Currency)</th>\n",
       "      <th>high_avg_2days</th>\n",
       "      <th>high_avg_4days</th>\n",
       "      <th>high_avg_6days</th>\n",
       "      <th>high_avg_8days</th>\n",
       "      <th>high_avg_10days</th>\n",
       "    </tr>\n",
       "  </thead>\n",
       "  <tbody>\n",
       "    <tr>\n",
       "      <th>3659</th>\n",
       "      <td>2014-12-03 18:32:00</td>\n",
       "      <td>0.00</td>\n",
       "      <td>0.00</td>\n",
       "      <td>0.00</td>\n",
       "      <td>0.00</td>\n",
       "      <td>0.283916</td>\n",
       "      <td>107.320172</td>\n",
       "      <td>0.00</td>\n",
       "      <td>0.00</td>\n",
       "      <td>0.00</td>\n",
       "      <td>0.00</td>\n",
       "      <td>0.00</td>\n",
       "      <td>0.056084</td>\n",
       "      <td>21.199828</td>\n",
       "      <td>0.050</td>\n",
       "      <td>0.0000</td>\n",
       "      <td>0.000000</td>\n",
       "      <td>0.00000</td>\n",
       "      <td>0.900</td>\n",
       "    </tr>\n",
       "    <tr>\n",
       "      <th>3753</th>\n",
       "      <td>2014-12-03 20:06:00</td>\n",
       "      <td>-0.99</td>\n",
       "      <td>-0.99</td>\n",
       "      <td>-0.99</td>\n",
       "      <td>-0.99</td>\n",
       "      <td>0.089476</td>\n",
       "      <td>33.722845</td>\n",
       "      <td>-0.99</td>\n",
       "      <td>0.10</td>\n",
       "      <td>0.10</td>\n",
       "      <td>0.10</td>\n",
       "      <td>0.10</td>\n",
       "      <td>0.000524</td>\n",
       "      <td>0.199155</td>\n",
       "      <td>-0.495</td>\n",
       "      <td>-0.2225</td>\n",
       "      <td>-0.165000</td>\n",
       "      <td>-0.12375</td>\n",
       "      <td>0.001</td>\n",
       "    </tr>\n",
       "    <tr>\n",
       "      <th>3922</th>\n",
       "      <td>2014-12-03 22:55:00</td>\n",
       "      <td>0.00</td>\n",
       "      <td>0.00</td>\n",
       "      <td>0.00</td>\n",
       "      <td>0.00</td>\n",
       "      <td>-0.340000</td>\n",
       "      <td>-128.520000</td>\n",
       "      <td>0.00</td>\n",
       "      <td>0.00</td>\n",
       "      <td>0.00</td>\n",
       "      <td>0.00</td>\n",
       "      <td>0.00</td>\n",
       "      <td>0.283916</td>\n",
       "      <td>107.320172</td>\n",
       "      <td>-0.495</td>\n",
       "      <td>-0.2225</td>\n",
       "      <td>-0.165000</td>\n",
       "      <td>-0.12375</td>\n",
       "      <td>-0.099</td>\n",
       "    </tr>\n",
       "    <tr>\n",
       "      <th>4095</th>\n",
       "      <td>2014-12-04 01:48:00</td>\n",
       "      <td>0.09</td>\n",
       "      <td>0.09</td>\n",
       "      <td>0.09</td>\n",
       "      <td>0.09</td>\n",
       "      <td>-0.090000</td>\n",
       "      <td>-33.930000</td>\n",
       "      <td>0.09</td>\n",
       "      <td>-0.99</td>\n",
       "      <td>-0.99</td>\n",
       "      <td>-0.99</td>\n",
       "      <td>-0.99</td>\n",
       "      <td>0.089476</td>\n",
       "      <td>33.722845</td>\n",
       "      <td>0.045</td>\n",
       "      <td>-0.2250</td>\n",
       "      <td>-0.133333</td>\n",
       "      <td>-0.11250</td>\n",
       "      <td>-0.090</td>\n",
       "    </tr>\n",
       "    <tr>\n",
       "      <th>4096</th>\n",
       "      <td>2014-12-06 01:41:00</td>\n",
       "      <td>0.00</td>\n",
       "      <td>0.00</td>\n",
       "      <td>0.00</td>\n",
       "      <td>0.00</td>\n",
       "      <td>0.005000</td>\n",
       "      <td>1.890000</td>\n",
       "      <td>0.00</td>\n",
       "      <td>0.00</td>\n",
       "      <td>0.00</td>\n",
       "      <td>0.00</td>\n",
       "      <td>0.00</td>\n",
       "      <td>-0.340000</td>\n",
       "      <td>-128.520000</td>\n",
       "      <td>0.045</td>\n",
       "      <td>-0.2250</td>\n",
       "      <td>-0.133333</td>\n",
       "      <td>-0.11250</td>\n",
       "      <td>-0.090</td>\n",
       "    </tr>\n",
       "  </tbody>\n",
       "</table>\n",
       "</div>"
      ],
      "text/plain": [
       "               Timestamp  close  open   low  high  volume(BTC)  \\\n",
       "3659 2014-12-03 18:32:00   0.00  0.00  0.00  0.00     0.283916   \n",
       "3753 2014-12-03 20:06:00  -0.99 -0.99 -0.99 -0.99     0.089476   \n",
       "3922 2014-12-03 22:55:00   0.00  0.00  0.00  0.00    -0.340000   \n",
       "4095 2014-12-04 01:48:00   0.09  0.09  0.09  0.09    -0.090000   \n",
       "4096 2014-12-06 01:41:00   0.00  0.00  0.00  0.00     0.005000   \n",
       "\n",
       "      volume(currency)  weighted price  Yest.Open  Yest.Low  Yest.High  \\\n",
       "3659        107.320172            0.00       0.00      0.00       0.00   \n",
       "3753         33.722845           -0.99       0.10      0.10       0.10   \n",
       "3922       -128.520000            0.00       0.00      0.00       0.00   \n",
       "4095        -33.930000            0.09      -0.99     -0.99      -0.99   \n",
       "4096          1.890000            0.00       0.00      0.00       0.00   \n",
       "\n",
       "      Yest.Weighted.Price  Yest.Volume(BTC)  Yest.Volume(Currency)  \\\n",
       "3659                 0.00          0.056084              21.199828   \n",
       "3753                 0.10          0.000524               0.199155   \n",
       "3922                 0.00          0.283916             107.320172   \n",
       "4095                -0.99          0.089476              33.722845   \n",
       "4096                 0.00         -0.340000            -128.520000   \n",
       "\n",
       "      high_avg_2days  high_avg_4days  high_avg_6days  high_avg_8days  \\\n",
       "3659           0.050          0.0000        0.000000         0.00000   \n",
       "3753          -0.495         -0.2225       -0.165000        -0.12375   \n",
       "3922          -0.495         -0.2225       -0.165000        -0.12375   \n",
       "4095           0.045         -0.2250       -0.133333        -0.11250   \n",
       "4096           0.045         -0.2250       -0.133333        -0.11250   \n",
       "\n",
       "      high_avg_10days  \n",
       "3659            0.900  \n",
       "3753            0.001  \n",
       "3922           -0.099  \n",
       "4095           -0.090  \n",
       "4096           -0.090  "
      ]
     },
     "execution_count": 337,
     "metadata": {},
     "output_type": "execute_result"
    }
   ],
   "source": [
    "df2.head()"
   ]
  },
  {
   "cell_type": "code",
   "execution_count": 336,
   "metadata": {
    "collapsed": true
   },
   "outputs": [],
   "source": [
    "df2 = df2.iloc[10:,:]"
   ]
  },
  {
   "cell_type": "code",
   "execution_count": 338,
   "metadata": {
    "collapsed": true
   },
   "outputs": [],
   "source": [
    "X_train, X_test, y_train, y_test = \\\n",
    "    train_test_split(df2[['high_avg_2days', 'high_avg_4days']].values, df2['open'].values)"
   ]
  },
  {
   "cell_type": "code",
   "execution_count": 339,
   "metadata": {},
   "outputs": [
    {
     "name": "stdout",
     "output_type": "stream",
     "text": [
      "(861210, 2) (287071, 2) (861210,) (287071,)\n"
     ]
    }
   ],
   "source": [
    "print(X_train.shape, X_test.shape, y_train.shape, y_test.shape)"
   ]
  },
  {
   "cell_type": "code",
   "execution_count": 340,
   "metadata": {},
   "outputs": [
    {
     "name": "stdout",
     "output_type": "stream",
     "text": [
      "0.629480395981\n"
     ]
    }
   ],
   "source": [
    "lr = LinearRegression()\n",
    "lr.fit(X_train, y_train)\n",
    "print(lr.score(X_train, y_train))"
   ]
  },
  {
   "cell_type": "code",
   "execution_count": 341,
   "metadata": {},
   "outputs": [
    {
     "name": "stdout",
     "output_type": "stream",
     "text": [
      "0.905939203268\n"
     ]
    }
   ],
   "source": [
    "rfr = RandomForestRegressor()\n",
    "rfr.fit(X_train, y_train)\n",
    "print(rfr.score(X_train, y_train))"
   ]
  },
  {
   "cell_type": "code",
   "execution_count": 342,
   "metadata": {},
   "outputs": [
    {
     "name": "stdout",
     "output_type": "stream",
     "text": [
      "0.799589003449\n"
     ]
    }
   ],
   "source": [
    "rfr = RandomForestRegressor()\n",
    "rfr.fit(X_test, y_test)\n",
    "print(rfr.score(X_test, y_test))"
   ]
  },
  {
   "cell_type": "markdown",
   "metadata": {},
   "source": [
    "This shows that the model is no longer overfit which means that the addition of the new features certainly had a positive impact on the modeling."
   ]
  },
  {
   "cell_type": "code",
   "execution_count": 428,
   "metadata": {},
   "outputs": [
    {
     "data": {
      "text/html": [
       "<div>\n",
       "<style>\n",
       "    .dataframe thead tr:only-child th {\n",
       "        text-align: right;\n",
       "    }\n",
       "\n",
       "    .dataframe thead th {\n",
       "        text-align: left;\n",
       "    }\n",
       "\n",
       "    .dataframe tbody tr th {\n",
       "        vertical-align: top;\n",
       "    }\n",
       "</style>\n",
       "<table border=\"1\" class=\"dataframe\">\n",
       "  <thead>\n",
       "    <tr style=\"text-align: right;\">\n",
       "      <th></th>\n",
       "      <th>quarter</th>\n",
       "      <th>stock</th>\n",
       "      <th>date</th>\n",
       "      <th>volume</th>\n",
       "      <th>percent_change_price</th>\n",
       "      <th>percent_change_volume_over_last_wk</th>\n",
       "      <th>previous_weeks_volume</th>\n",
       "      <th>Percent Change Price</th>\n",
       "      <th>Returned Percentage Next Dividend</th>\n",
       "      <th>Days Until Next Dividend</th>\n",
       "      <th>...</th>\n",
       "      <th>Close</th>\n",
       "      <th>Open</th>\n",
       "      <th>Yest.Open</th>\n",
       "      <th>Yest.Close</th>\n",
       "      <th>Yest.High</th>\n",
       "      <th>Yest.Low</th>\n",
       "      <th>Yest.Percent.Change.Price</th>\n",
       "      <th>volume_average_10_days</th>\n",
       "      <th>volume_average_5_days</th>\n",
       "      <th>volume_average_2_days</th>\n",
       "    </tr>\n",
       "  </thead>\n",
       "  <tbody>\n",
       "    <tr>\n",
       "      <th>16</th>\n",
       "      <td>1</td>\n",
       "      <td>AXP</td>\n",
       "      <td>2/4/2011</td>\n",
       "      <td>39501680</td>\n",
       "      <td>-0.702470</td>\n",
       "      <td>-23.189240</td>\n",
       "      <td>51427274.0</td>\n",
       "      <td>-0.637295</td>\n",
       "      <td>0.019467</td>\n",
       "      <td>-14.0</td>\n",
       "      <td>...</td>\n",
       "      <td>-2.0</td>\n",
       "      <td>-1.90</td>\n",
       "      <td>29.65</td>\n",
       "      <td>28.91</td>\n",
       "      <td>29.47</td>\n",
       "      <td>28.45</td>\n",
       "      <td>-4.399725</td>\n",
       "      <td>81842329.2</td>\n",
       "      <td>50243557.4</td>\n",
       "      <td>45464477.0</td>\n",
       "    </tr>\n",
       "    <tr>\n",
       "      <th>17</th>\n",
       "      <td>1</td>\n",
       "      <td>AXP</td>\n",
       "      <td>2/11/2011</td>\n",
       "      <td>43746998</td>\n",
       "      <td>6.346680</td>\n",
       "      <td>10.747183</td>\n",
       "      <td>39501680.0</td>\n",
       "      <td>11.102380</td>\n",
       "      <td>-0.025370</td>\n",
       "      <td>-14.0</td>\n",
       "      <td>...</td>\n",
       "      <td>2.0</td>\n",
       "      <td>-2.09</td>\n",
       "      <td>1.85</td>\n",
       "      <td>-2.39</td>\n",
       "      <td>0.02</td>\n",
       "      <td>-0.59</td>\n",
       "      <td>-9.393710</td>\n",
       "      <td>78214639.5</td>\n",
       "      <td>39882878.6</td>\n",
       "      <td>41624339.0</td>\n",
       "    </tr>\n",
       "    <tr>\n",
       "      <th>18</th>\n",
       "      <td>1</td>\n",
       "      <td>AXP</td>\n",
       "      <td>2/18/2011</td>\n",
       "      <td>28564910</td>\n",
       "      <td>-1.917280</td>\n",
       "      <td>-34.704297</td>\n",
       "      <td>43746998.0</td>\n",
       "      <td>-1.214810</td>\n",
       "      <td>-0.015427</td>\n",
       "      <td>-14.0</td>\n",
       "      <td>...</td>\n",
       "      <td>1.0</td>\n",
       "      <td>2.29</td>\n",
       "      <td>-1.90</td>\n",
       "      <td>-2.18</td>\n",
       "      <td>-2.48</td>\n",
       "      <td>-1.56</td>\n",
       "      <td>-0.637295</td>\n",
       "      <td>67772944.2</td>\n",
       "      <td>40413118.0</td>\n",
       "      <td>36155954.0</td>\n",
       "    </tr>\n",
       "    <tr>\n",
       "      <th>19</th>\n",
       "      <td>1</td>\n",
       "      <td>AXP</td>\n",
       "      <td>2/25/2011</td>\n",
       "      <td>39654146</td>\n",
       "      <td>-3.137520</td>\n",
       "      <td>38.821183</td>\n",
       "      <td>28564910.0</td>\n",
       "      <td>-9.484200</td>\n",
       "      <td>0.028481</td>\n",
       "      <td>-14.0</td>\n",
       "      <td>...</td>\n",
       "      <td>-3.0</td>\n",
       "      <td>0.98</td>\n",
       "      <td>-2.09</td>\n",
       "      <td>2.89</td>\n",
       "      <td>0.52</td>\n",
       "      <td>0.46</td>\n",
       "      <td>11.102380</td>\n",
       "      <td>60789051.1</td>\n",
       "      <td>40579001.6</td>\n",
       "      <td>34109528.0</td>\n",
       "    </tr>\n",
       "    <tr>\n",
       "      <th>20</th>\n",
       "      <td>1</td>\n",
       "      <td>AXP</td>\n",
       "      <td>3/4/2011</td>\n",
       "      <td>38985037</td>\n",
       "      <td>-0.022868</td>\n",
       "      <td>-1.687362</td>\n",
       "      <td>39654146.0</td>\n",
       "      <td>1.894412</td>\n",
       "      <td>0.016367</td>\n",
       "      <td>-14.0</td>\n",
       "      <td>...</td>\n",
       "      <td>-1.0</td>\n",
       "      <td>-2.69</td>\n",
       "      <td>2.29</td>\n",
       "      <td>1.71</td>\n",
       "      <td>2.70</td>\n",
       "      <td>2.38</td>\n",
       "      <td>-1.214810</td>\n",
       "      <td>53254298.6</td>\n",
       "      <td>38090554.2</td>\n",
       "      <td>39319591.5</td>\n",
       "    </tr>\n",
       "  </tbody>\n",
       "</table>\n",
       "<p>5 rows × 25 columns</p>\n",
       "</div>"
      ],
      "text/plain": [
       "    quarter stock       date    volume  percent_change_price  \\\n",
       "16        1   AXP   2/4/2011  39501680             -0.702470   \n",
       "17        1   AXP  2/11/2011  43746998              6.346680   \n",
       "18        1   AXP  2/18/2011  28564910             -1.917280   \n",
       "19        1   AXP  2/25/2011  39654146             -3.137520   \n",
       "20        1   AXP   3/4/2011  38985037             -0.022868   \n",
       "\n",
       "    percent_change_volume_over_last_wk  previous_weeks_volume  \\\n",
       "16                          -23.189240             51427274.0   \n",
       "17                           10.747183             39501680.0   \n",
       "18                          -34.704297             43746998.0   \n",
       "19                           38.821183             28564910.0   \n",
       "20                           -1.687362             39654146.0   \n",
       "\n",
       "    Percent Change Price  Returned Percentage Next Dividend  \\\n",
       "16             -0.637295                           0.019467   \n",
       "17             11.102380                          -0.025370   \n",
       "18             -1.214810                          -0.015427   \n",
       "19             -9.484200                           0.028481   \n",
       "20              1.894412                           0.016367   \n",
       "\n",
       "    Days Until Next Dividend          ...            Close  Open  Yest.Open  \\\n",
       "16                     -14.0          ...             -2.0 -1.90      29.65   \n",
       "17                     -14.0          ...              2.0 -2.09       1.85   \n",
       "18                     -14.0          ...              1.0  2.29      -1.90   \n",
       "19                     -14.0          ...             -3.0  0.98      -2.09   \n",
       "20                     -14.0          ...             -1.0 -2.69       2.29   \n",
       "\n",
       "    Yest.Close  Yest.High  Yest.Low  Yest.Percent.Change.Price  \\\n",
       "16       28.91      29.47     28.45                  -4.399725   \n",
       "17       -2.39       0.02     -0.59                  -9.393710   \n",
       "18       -2.18      -2.48     -1.56                  -0.637295   \n",
       "19        2.89       0.52      0.46                  11.102380   \n",
       "20        1.71       2.70      2.38                  -1.214810   \n",
       "\n",
       "    volume_average_10_days  volume_average_5_days  volume_average_2_days  \n",
       "16              81842329.2             50243557.4             45464477.0  \n",
       "17              78214639.5             39882878.6             41624339.0  \n",
       "18              67772944.2             40413118.0             36155954.0  \n",
       "19              60789051.1             40579001.6             34109528.0  \n",
       "20              53254298.6             38090554.2             39319591.5  \n",
       "\n",
       "[5 rows x 25 columns]"
      ]
     },
     "execution_count": 428,
     "metadata": {},
     "output_type": "execute_result"
    }
   ],
   "source": [
    "df.head()"
   ]
  },
  {
   "cell_type": "code",
   "execution_count": 420,
   "metadata": {
    "collapsed": true
   },
   "outputs": [],
   "source": [
    "df['volume_average_10_days'] = df['volume'].rolling(window=10).mean()"
   ]
  },
  {
   "cell_type": "code",
   "execution_count": 422,
   "metadata": {
    "collapsed": true
   },
   "outputs": [],
   "source": [
    "df['volume_average_5_days'] = df['volume'].rolling(window=5).mean()"
   ]
  },
  {
   "cell_type": "code",
   "execution_count": 424,
   "metadata": {
    "collapsed": true
   },
   "outputs": [],
   "source": [
    "df['volume_average_2_days'] = df['volume'].rolling(window=2).mean()"
   ]
  },
  {
   "cell_type": "code",
   "execution_count": 427,
   "metadata": {
    "collapsed": true
   },
   "outputs": [],
   "source": [
    "df = df.iloc[10:,:]"
   ]
  },
  {
   "cell_type": "code",
   "execution_count": 429,
   "metadata": {
    "collapsed": true
   },
   "outputs": [],
   "source": [
    "X_train, X_test, y_train,  y_test = \\\n",
    "    train_test_split(df[['volume_average_10_days', 'volume_average_5_days', 'volume_average_2_days']],\n",
    "                    (df['Close']>0), test_size=.4, \n",
    "                    random_state = 42)"
   ]
  },
  {
   "cell_type": "code",
   "execution_count": 430,
   "metadata": {},
   "outputs": [
    {
     "data": {
      "text/plain": [
       "(283, 3)"
      ]
     },
     "execution_count": 430,
     "metadata": {},
     "output_type": "execute_result"
    }
   ],
   "source": [
    "X_test.shape"
   ]
  },
  {
   "cell_type": "code",
   "execution_count": 431,
   "metadata": {},
   "outputs": [
    {
     "data": {
      "text/plain": [
       "False    314\n",
       "True     109\n",
       "Name: Close, dtype: int64"
      ]
     },
     "execution_count": 431,
     "metadata": {},
     "output_type": "execute_result"
    }
   ],
   "source": [
    "y_train.value_counts()"
   ]
  },
  {
   "cell_type": "code",
   "execution_count": 432,
   "metadata": {
    "collapsed": true
   },
   "outputs": [],
   "source": [
    "mpipe = make_pipeline(StandardScaler(), LogisticRegressionCV(cv=2))\n",
    "\n",
    "pipe = Pipeline([\n",
    "    ('scale', StandardScaler()),\n",
    "    ('fit', LogisticRegressionCV(cv=2))\n",
    "])"
   ]
  },
  {
   "cell_type": "code",
   "execution_count": 433,
   "metadata": {},
   "outputs": [
    {
     "data": {
      "text/plain": [
       "Pipeline(memory=None,\n",
       "     steps=[('scale', StandardScaler(copy=True, with_mean=True, with_std=True)), ('fit', LogisticRegressionCV(Cs=10, class_weight=None, cv=2, dual=False,\n",
       "           fit_intercept=True, intercept_scaling=1.0, max_iter=100,\n",
       "           multi_class='ovr', n_jobs=1, penalty='l2', random_state=None,\n",
       "           refit=True, scoring=None, solver='lbfgs', tol=0.0001, verbose=0))])"
      ]
     },
     "execution_count": 433,
     "metadata": {},
     "output_type": "execute_result"
    }
   ],
   "source": [
    "pipe.fit(X_train, y_train)"
   ]
  },
  {
   "cell_type": "code",
   "execution_count": 434,
   "metadata": {},
   "outputs": [
    {
     "data": {
      "text/plain": [
       "0.73144876325088337"
      ]
     },
     "execution_count": 434,
     "metadata": {},
     "output_type": "execute_result"
    }
   ],
   "source": [
    "pipe.score(X_test, y_test)"
   ]
  },
  {
   "cell_type": "code",
   "execution_count": 435,
   "metadata": {
    "collapsed": true
   },
   "outputs": [],
   "source": [
    "y_pred = pipe.predict(X_test)"
   ]
  },
  {
   "cell_type": "code",
   "execution_count": 436,
   "metadata": {},
   "outputs": [
    {
     "data": {
      "text/plain": [
       "array([[202,   3],\n",
       "       [ 73,   5]])"
      ]
     },
     "execution_count": 436,
     "metadata": {},
     "output_type": "execute_result"
    }
   ],
   "source": [
    "confusion_matrix(y_test, y_pred)"
   ]
  },
  {
   "cell_type": "markdown",
   "metadata": {},
   "source": [
    "This tells us that there are 202 true negatives, 3 false positives, 73 false negatives and 5 true positives"
   ]
  },
  {
   "cell_type": "code",
   "execution_count": 437,
   "metadata": {},
   "outputs": [
    {
     "name": "stdout",
     "output_type": "stream",
     "text": [
      "0.0487826455368\n"
     ]
    }
   ],
   "source": [
    "lr = LinearRegression()\n",
    "lr.fit(X_train, y_train)\n",
    "print(lr.score(X_train, y_train))"
   ]
  },
  {
   "cell_type": "code",
   "execution_count": 439,
   "metadata": {},
   "outputs": [
    {
     "name": "stdout",
     "output_type": "stream",
     "text": [
      "0.821041313621\n"
     ]
    }
   ],
   "source": [
    "rfr = RandomForestRegressor()\n",
    "rfr.fit(X_train, y_train)\n",
    "print(rfr.score(X_train, y_train))"
   ]
  },
  {
   "cell_type": "code",
   "execution_count": 440,
   "metadata": {},
   "outputs": [
    {
     "name": "stdout",
     "output_type": "stream",
     "text": [
      "0.810094434021\n"
     ]
    }
   ],
   "source": [
    "rfr = RandomForestRegressor()\n",
    "rfr.fit(X_test, y_test)\n",
    "print(rfr.score(X_test, y_test))"
   ]
  },
  {
   "cell_type": "markdown",
   "metadata": {},
   "source": [
    "Clearly adding more features to the data set is a consistent fix to the model accuracy."
   ]
  },
  {
   "cell_type": "markdown",
   "metadata": {},
   "source": [
    "Despite the volatility in the Bitcoin dataset the predictions were more accurate than those of the Dow Jones"
   ]
  },
  {
   "cell_type": "code",
   "execution_count": 451,
   "metadata": {},
   "outputs": [
    {
     "data": {
      "text/plain": [
       "0.72438162544169615"
      ]
     },
     "execution_count": 451,
     "metadata": {},
     "output_type": "execute_result"
    }
   ],
   "source": [
    "baseline = 1 - y_test.mean()\n",
    "baseline"
   ]
  },
  {
   "cell_type": "markdown",
   "metadata": {},
   "source": [
    "Although the first models I ran were under the baseline ultimately after adding more features the model was able to beat baseline for the random forest regression with both datasets. In the future I will add further averages to the set to try and improve the accuracy. "
   ]
  },
  {
   "cell_type": "code",
   "execution_count": null,
   "metadata": {
    "collapsed": true
   },
   "outputs": [],
   "source": []
  }
 ],
 "metadata": {
  "kernelspec": {
   "display_name": "Python 3",
   "language": "python",
   "name": "python3"
  }
 },
 "nbformat": 4,
 "nbformat_minor": 2
}
